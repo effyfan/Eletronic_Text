{
 "cells": [
  {
   "cell_type": "code",
   "execution_count": 9,
   "metadata": {
    "collapsed": true
   },
   "outputs": [],
   "source": [
    "import random"
   ]
  },
  {
   "cell_type": "code",
   "execution_count": 3,
   "metadata": {
    "collapsed": true
   },
   "outputs": [],
   "source": [
    "人称一 = [\n",
    "    '吾',\n",
    "    '我',\n",
    "    '予',\n",
    "    '余',\n",
    "    '朕',\n",
    "    '孤',\n",
    "    '臣',\n",
    "    '仆',\n",
    "    '妾',\n",
    "]"
   ]
  },
  {
   "cell_type": "code",
   "execution_count": 4,
   "metadata": {
    "collapsed": true
   },
   "outputs": [],
   "source": [
    "人称二三 = [\n",
    "    \"而\",\n",
    "    \"女\",\n",
    "    \"汝\",\n",
    "    \"君\",\n",
    "    \"尔\",\n",
    "    \"若\",\n",
    "    \"乃\",\n",
    "    \"子\",\n",
    "    \"公\",\n",
    "    \"其\",\n",
    "    \"之\",\n",
    "    \"夫\",\n",
    "    \"彼\",\n",
    "]"
   ]
  },
  {
   "cell_type": "code",
   "execution_count": 5,
   "metadata": {
    "collapsed": true
   },
   "outputs": [],
   "source": [
    "动词 = [\n",
    "    \"借\",\n",
    "    \"去\",\n",
    "    \"回\",\n",
    "    \"来\",\n",
    "    \"喜\",\n",
    "    \"忧\",\n",
    "    \"望\",\n",
    "    \"依\",\n",
    "    \"辞\",\n",
    "    \"闻\",\n",
    "    \"央\",\n",
    "]"
   ]
  },
  {
   "cell_type": "code",
   "execution_count": 6,
   "metadata": {
    "collapsed": true
   },
   "outputs": [],
   "source": [
    "名词双 = [\n",
    "    \"宫花\",\n",
    "    \"故乡\",\n",
    "    \"柴扉\",\n",
    "    \"日暮\",\n",
    "    \"春草\",\n",
    "    \"秋水\",\n",
    "    \"夏荷\",\n",
    "    \"冬雪\",\n",
    "    \"天涯\",\n",
    "    \"樽酒\",\n",
    "    \"故人\",\n",
    "    \"明月\",\n",
    "    \"翡翠\",\n",
    "    \"云鬓\",\n",
    "]"
   ]
  },
  {
   "cell_type": "code",
   "execution_count": 7,
   "metadata": {
    "collapsed": true
   },
   "outputs": [],
   "source": [
    "名词 =[\n",
    "    \"花\",\n",
    "    \"梅\",\n",
    "    \"窗\",\n",
    "    \"山\",\n",
    "    \"朝\",\n",
    "    \"暮\",\n",
    "    \"语\",\n",
    "    \"音\",\n",
    "    \"书\",\n",
    "    \"情\",\n",
    "    \"雨\",\n",
    "    \"风\",\n",
    "    \"月\",\n",
    "    \"日\",\n",
    "    \"星\",\n",
    "    \"鹊\",\n",
    "    \"栏\",\n",
    "    \"水\",\n",
    "    \"影\",\n",
    "    \"叶\",\n",
    "    \"眸\",\n",
    "]"
   ]
  },
  {
   "cell_type": "code",
   "execution_count": 8,
   "metadata": {
    "collapsed": true
   },
   "outputs": [],
   "source": [
    "形容词 = [\n",
    "    \"闲\",\n",
    "    \"寂\",\n",
    "    \"寥\",\n",
    "    \"古\",\n",
    "    \"寒\",\n",
    "    \"空\",\n",
    "    \"孤\",\n",
    "    \"春\",\n",
    "    \"夏\",\n",
    "    \"秋\",\n",
    "    \"冬\",\n",
    "    \"离\",\n",
    "    \"荒\",\n",
    "    \"斜\",\n",
    "    \"青\",\n",
    "    \"漫\",\n",
    "    \"暖\",\n",
    "]"
   ]
  },
  {
   "cell_type": "code",
   "execution_count": 1,
   "metadata": {
    "collapsed": true
   },
   "outputs": [],
   "source": [
    "韵脚一 = [\n",
    "    '东',\n",
    "    '同',\n",
    "    '铜',\n",
    "    '桐',\n",
    "    '童',\n",
    "    '瞳',\n",
    "    '中',\n",
    "    '衷',\n",
    "    '忠',\n",
    "    '虫',\n",
    "    '终',\n",
    "    '戎',\n",
    "    '崇',\n",
    "    '嵩',\n",
    "    '弓',\n",
    "    '躬',\n",
    "    '宫',\n",
    "    '融',\n",
    "    '穹',\n",
    "    '穷',\n",
    "    '冯',\n",
    "    '风',\n",
    "    '枫',\n",
    "    '丰',\n",
    "    '充',\n",
    "    '隆',\n",
    "    '空',\n",
    "    '公',\n",
    "    '功',\n",
    "    '蒙',\n",
    "    '濛',\n",
    "    '笼',\n",
    "    '珑',\n",
    "    '红',\n",
    "    '鸿',\n",
    "    '虹',\n",
    "    '丛',\n",
    "    '翁',\n",
    "    '潼',\n",
    "    '胧',\n",
    "    '梦',\n",
    "    '种',\n",
    "    '绒',\n",
    "    '葱',\n",
    "    '匆',    \n",
    "]"
   ]
  },
  {
   "cell_type": "code",
   "execution_count": null,
   "metadata": {
    "collapsed": true
   },
   "outputs": [],
   "source": [
    "韵脚二 = [\n",
    "    \n",
    "]"
   ]
  },
  {
   "cell_type": "code",
   "execution_count": null,
   "metadata": {
    "collapsed": true
   },
   "outputs": [],
   "source": [
    "韵脚三 = [\n",
    "    \n",
    "]"
   ]
  },
  {
   "cell_type": "code",
   "execution_count": null,
   "metadata": {
    "collapsed": true
   },
   "outputs": [],
   "source": []
  },
  {
   "cell_type": "code",
   "execution_count": null,
   "metadata": {
    "collapsed": true
   },
   "outputs": [],
   "source": []
  },
  {
   "cell_type": "code",
   "execution_count": 10,
   "metadata": {},
   "outputs": [
    {
     "name": "stdout",
     "output_type": "stream",
     "text": [
      "我朝去故人\n",
      "栏望尔宫花\n",
      "闲山秋水衷\n",
      "寒星来闲种\n"
     ]
    }
   ],
   "source": [
    "print(random.choice(人称一) + random.choice(名词) + random.choice(动词) + random.choice(名词双))\n",
    "print(random.choice(名词) + random.choice(动词) + random.choice(人称二三) + random.choice(名词双))\n",
    "print(random.choice(形容词) + random.choice(名词) + random.choice(名词双) + random.choice(韵脚一))\n",
    "print(random.choice(形容词) + random.choice(名词) + random.choice(动词) + random.choice(形容词) + random.choice(韵脚一))"
   ]
  },
  {
   "cell_type": "markdown",
   "metadata": {},
   "source": [
    "妾喜书云鬓\n",
    "鹊忧彼翡翠\n",
    "闲山来故人\n",
    "春窗忆空斜"
   ]
  },
  {
   "cell_type": "markdown",
   "metadata": {},
   "source": [
    "孤望鹊樽酒\n",
    "日喜乃夏荷\n",
    "春日辞故人\n",
    "荒月央空离"
   ]
  },
  {
   "cell_type": "markdown",
   "metadata": {},
   "source": [
    "孤依鹊日暮\n",
    "书闻尔冬雪\n",
    "秋暮知柴扉\n",
    "漫情回冬暖"
   ]
  },
  {
   "cell_type": "markdown",
   "metadata": {},
   "source": [
    "寥暮听柴扉\n",
    "冬栏来斜斜"
   ]
  },
  {
   "cell_type": "markdown",
   "metadata": {},
   "source": [
    "斜雨央翡翠\n",
    "离水忆空荒"
   ]
  },
  {
   "cell_type": "markdown",
   "metadata": {},
   "source": [
    "荒月依秋水\n",
    "青窗依冬闲"
   ]
  },
  {
   "cell_type": "markdown",
   "metadata": {},
   "source": [
    "我借花柴扉\n",
    "书借子宫花\n",
    "冬日忧翡翠\n",
    "斜朝来古围"
   ]
  },
  {
   "cell_type": "markdown",
   "metadata": {
    "collapsed": true
   },
   "source": [
    "孤叶借故乡\n",
    "星忧若云鬓\n",
    "闲山来翡翠\n",
    "青山借寥暖"
   ]
  },
  {
   "cell_type": "markdown",
   "metadata": {
    "collapsed": true
   },
   "source": [
    "我朝去故人\n",
    "栏望尔宫花\n",
    "闲山秋水衷\n",
    "寒星来闲种"
   ]
  },
  {
   "cell_type": "code",
   "execution_count": null,
   "metadata": {
    "collapsed": true
   },
   "outputs": [],
   "source": []
  },
  {
   "cell_type": "code",
   "execution_count": null,
   "metadata": {
    "collapsed": true
   },
   "outputs": [],
   "source": []
  },
  {
   "cell_type": "code",
   "execution_count": null,
   "metadata": {
    "collapsed": true
   },
   "outputs": [],
   "source": []
  },
  {
   "cell_type": "code",
   "execution_count": null,
   "metadata": {
    "collapsed": true
   },
   "outputs": [],
   "source": []
  },
  {
   "cell_type": "code",
   "execution_count": null,
   "metadata": {
    "collapsed": true
   },
   "outputs": [],
   "source": []
  },
  {
   "cell_type": "code",
   "execution_count": null,
   "metadata": {
    "collapsed": true
   },
   "outputs": [],
   "source": []
  },
  {
   "cell_type": "code",
   "execution_count": null,
   "metadata": {
    "collapsed": true
   },
   "outputs": [],
   "source": []
  },
  {
   "cell_type": "code",
   "execution_count": null,
   "metadata": {
    "collapsed": true
   },
   "outputs": [],
   "source": []
  },
  {
   "cell_type": "code",
   "execution_count": null,
   "metadata": {
    "collapsed": true
   },
   "outputs": [],
   "source": []
  },
  {
   "cell_type": "code",
   "execution_count": null,
   "metadata": {
    "collapsed": true
   },
   "outputs": [],
   "source": []
  },
  {
   "cell_type": "code",
   "execution_count": null,
   "metadata": {
    "collapsed": true
   },
   "outputs": [],
   "source": []
  }
 ],
 "metadata": {
  "kernelspec": {
   "display_name": "Python 3",
   "language": "python",
   "name": "python3"
  },
  "language_info": {
   "codemirror_mode": {
    "name": "ipython",
    "version": 3
   },
   "file_extension": ".py",
   "mimetype": "text/x-python",
   "name": "python",
   "nbconvert_exporter": "python",
   "pygments_lexer": "ipython3",
   "version": "3.6.3"
  }
 },
 "nbformat": 4,
 "nbformat_minor": 2
}
