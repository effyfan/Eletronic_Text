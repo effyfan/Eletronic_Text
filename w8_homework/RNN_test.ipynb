{
 "cells": [
  {
   "cell_type": "code",
   "execution_count": 1,
   "metadata": {},
   "outputs": [
    {
     "name": "stdout",
     "output_type": "stream",
     "text": [
      "Fetching package metadata ...........\n",
      "Solving package specifications: .\n",
      "\n",
      "Package plan for installation in environment /Users/apple/anaconda3:\n",
      "\n",
      "The following NEW packages will be INSTALLED:\n",
      "\n",
      "    keras:       2.1.5-py36_0                     \n",
      "    libprotobuf: 3.5.1-h2cd40f5_0                 \n",
      "    protobuf:    3.5.1-py36h0a44026_0             \n",
      "    tensorflow:  1.1.0-np112py36_0                \n",
      "\n",
      "The following packages will be UPDATED:\n",
      "\n",
      "    anaconda:    5.0.1-py36h6e48e2d_1              --> custom-py36ha4fed55_0\n",
      "    conda:       4.3.34-py36_0         conda-forge --> 4.5.0-py36_0         \n",
      "    pycosat:     0.6.2-py36h1486600_0              --> 0.6.3-py36hee92d8f_0 \n",
      "\n",
      "The following packages will be SUPERSEDED by a higher-priority channel:\n",
      "\n",
      "    conda-env:   2.6.0-0               conda-forge --> 2.6.0-h36134e3_0     \n",
      "\n",
      "The following packages will be DOWNGRADED:\n",
      "\n",
      "    numba:       0.35.0-np113py36_6                --> 0.35.0-np112py36_0   \n",
      "    numpy:       1.13.3-py36h2cdce51_0             --> 1.12.1-py36h8871d66_1\n",
      "\n",
      "conda-env-2.6. 100% |################################| Time: 0:00:00   1.00 MB/s\n",
      "libprotobuf-3. 100% |################################| Time: 0:00:00   9.38 MB/s\n",
      "anaconda-custo 100% |################################| Time: 0:00:00   2.04 MB/s\n",
      "numpy-1.12.1-p 100% |################################| Time: 0:00:00  10.10 MB/s\n",
      "pycosat-0.6.3- 100% |################################| Time: 0:00:00   7.73 MB/s\n",
      "numba-0.35.0-n 100% |################################| Time: 0:00:00  11.23 MB/s\n",
      "protobuf-3.5.1 100% |################################| Time: 0:00:00  12.11 MB/s\n",
      "tensorflow-1.1 100% |################################| Time: 0:00:01  12.76 MB/s\n",
      "keras-2.1.5-py 100% |################################| Time: 0:00:00  10.96 MB/s\n",
      "conda-4.5.0-py 100% |################################| Time: 0:00:00   6.73 MB/s\n"
     ]
    }
   ],
   "source": [
    "!conda install -y keras"
   ]
  },
  {
   "cell_type": "code",
   "execution_count": 2,
   "metadata": {},
   "outputs": [
    {
     "name": "stdout",
     "output_type": "stream",
     "text": [
      "Collecting textgenrnn\n",
      "  Downloading textgenrnn-0.1.1.tar.gz (777kB)\n",
      "\u001b[K    100% |████████████████████████████████| 778kB 425kB/s ta 0:00:011\n",
      "\u001b[?25hRequirement already satisfied: tensorflow in /Users/apple/anaconda3/lib/python3.6/site-packages (from textgenrnn)\n",
      "Requirement already satisfied: keras in /Users/apple/anaconda3/lib/python3.6/site-packages (from textgenrnn)\n",
      "Requirement already satisfied: h5py in /Users/apple/anaconda3/lib/python3.6/site-packages (from textgenrnn)\n",
      "Requirement already satisfied: wheel>=0.26 in /Users/apple/anaconda3/lib/python3.6/site-packages (from tensorflow->textgenrnn)\n",
      "Requirement already satisfied: protobuf>=3.2.0 in /Users/apple/anaconda3/lib/python3.6/site-packages (from tensorflow->textgenrnn)\n",
      "Requirement already satisfied: numpy>=1.11.0 in /Users/apple/anaconda3/lib/python3.6/site-packages (from tensorflow->textgenrnn)\n",
      "Requirement already satisfied: werkzeug>=0.11.10 in /Users/apple/anaconda3/lib/python3.6/site-packages (from tensorflow->textgenrnn)\n",
      "Requirement already satisfied: six>=1.10.0 in /Users/apple/anaconda3/lib/python3.6/site-packages (from tensorflow->textgenrnn)\n",
      "Requirement already satisfied: scipy>=0.14 in /Users/apple/anaconda3/lib/python3.6/site-packages (from keras->textgenrnn)\n",
      "Requirement already satisfied: pyyaml in /Users/apple/anaconda3/lib/python3.6/site-packages (from keras->textgenrnn)\n",
      "Requirement already satisfied: setuptools in /Users/apple/anaconda3/lib/python3.6/site-packages (from protobuf>=3.2.0->tensorflow->textgenrnn)\n",
      "Building wheels for collected packages: textgenrnn\n",
      "  Running setup.py bdist_wheel for textgenrnn ... \u001b[?25ldone\n",
      "\u001b[?25h  Stored in directory: /Users/apple/Library/Caches/pip/wheels/59/b1/4a/b5ee074f89a4fb3632930705658c28ba38cfacd38f29bc1340\n",
      "Successfully built textgenrnn\n",
      "Installing collected packages: textgenrnn\n",
      "Successfully installed textgenrnn-0.1.1\n",
      "\u001b[33mYou are using pip version 9.0.1, however version 9.0.3 is available.\n",
      "You should consider upgrading via the 'pip install --upgrade pip' command.\u001b[0m\n"
     ]
    }
   ],
   "source": [
    "!pip install textgenrnn"
   ]
  },
  {
   "cell_type": "code",
   "execution_count": 3,
   "metadata": {},
   "outputs": [
    {
     "name": "stderr",
     "output_type": "stream",
     "text": [
      "Using TensorFlow backend.\n"
     ]
    }
   ],
   "source": [
    "from textgenrnn import textgenrnn"
   ]
  },
  {
   "cell_type": "code",
   "execution_count": 4,
   "metadata": {
    "collapsed": true
   },
   "outputs": [],
   "source": [
    "textgen = textgenrnn()"
   ]
  },
  {
   "cell_type": "code",
   "execution_count": 5,
   "metadata": {},
   "outputs": [
    {
     "name": "stdout",
     "output_type": "stream",
     "text": [
      "The concern in the states of the states and the season of the star the best of the world are the best shows a bad in the season and show the street and being the show of the show to the super seen t\n",
      "\n"
     ]
    }
   ],
   "source": [
    "textgen.generate()"
   ]
  },
  {
   "cell_type": "code",
   "execution_count": 6,
   "metadata": {},
   "outputs": [
    {
     "name": "stdout",
     "output_type": "stream",
     "text": [
      "Epoch 1/20\n",
      "2638/2638 [==============================] - 9s 3ms/step - loss: 1.5579\n",
      "Epoch 2/20\n",
      "2638/2638 [==============================] - 7s 3ms/step - loss: 1.2697\n",
      "Epoch 3/20\n",
      "2638/2638 [==============================] - 8s 3ms/step - loss: 1.1247\n",
      "Epoch 4/20\n",
      "2638/2638 [==============================] - 7s 3ms/step - loss: 1.0351\n",
      "Epoch 5/20\n",
      "2638/2638 [==============================] - 7s 3ms/step - loss: 0.9685\n",
      "Epoch 6/20\n",
      "2638/2638 [==============================] - 7s 3ms/step - loss: 0.9099\n",
      "Epoch 7/20\n",
      "2638/2638 [==============================] - 7s 3ms/step - loss: 0.8640\n",
      "Epoch 8/20\n",
      "2638/2638 [==============================] - 7s 3ms/step - loss: 0.8224\n",
      "Epoch 9/20\n",
      "2638/2638 [==============================] - 7s 3ms/step - loss: 0.7859\n",
      "Epoch 10/20\n",
      "2638/2638 [==============================] - 7s 3ms/step - loss: 0.7565\n",
      "Epoch 11/20\n",
      "2638/2638 [==============================] - 7s 3ms/step - loss: 0.7287\n",
      "Epoch 12/20\n",
      "2638/2638 [==============================] - 7s 2ms/step - loss: 0.7056\n",
      "Epoch 13/20\n",
      "2638/2638 [==============================] - 8s 3ms/step - loss: 0.6847\n",
      "Epoch 14/20\n",
      "2638/2638 [==============================] - 7s 3ms/step - loss: 0.6659\n",
      "Epoch 15/20\n",
      "2638/2638 [==============================] - 7s 3ms/step - loss: 0.6502\n",
      "Epoch 16/20\n",
      "2638/2638 [==============================] - 7s 3ms/step - loss: 0.6367\n",
      "Epoch 17/20\n",
      "2638/2638 [==============================] - 7s 3ms/step - loss: 0.6245\n",
      "Epoch 18/20\n",
      "2638/2638 [==============================] - 7s 3ms/step - loss: 0.6136\n",
      "Epoch 19/20\n",
      "2638/2638 [==============================] - 7s 3ms/step - loss: 0.6053\n",
      "Epoch 20/20\n",
      "2638/2638 [==============================] - 7s 3ms/step - loss: 0.5987\n"
     ]
    }
   ],
   "source": [
    "textgen.train_on_texts(open(\"chushibiao.txt\").readlines(), num_epochs=20)"
   ]
  },
  {
   "cell_type": "code",
   "execution_count": 7,
   "metadata": {},
   "outputs": [
    {
     "name": "stdout",
     "output_type": "stream",
     "text": [
      "The emperors of the Han and the Emperors are not to the previous Emperor and still to honor the empire of the fighting to the previous Emperor and strengthen the moment to his court to you and the m\n",
      "\n"
     ]
    }
   ],
   "source": [
    "textgen.generate()"
   ]
  },
  {
   "cell_type": "code",
   "execution_count": 8,
   "metadata": {},
   "outputs": [
    {
     "name": "stdout",
     "output_type": "stream",
     "text": [
      "Epoch 1/10\n",
      "181475/181475 [==============================] - 484s 3ms/step - loss: 1.6953\n",
      "Epoch 2/10\n",
      "181475/181475 [==============================] - 462s 3ms/step - loss: 1.5202\n",
      "Epoch 3/10\n",
      "181475/181475 [==============================] - 473s 3ms/step - loss: 1.4598\n",
      "Epoch 4/10\n",
      "181475/181475 [==============================] - 465s 3ms/step - loss: 1.4181\n",
      "Epoch 5/10\n",
      "181475/181475 [==============================] - 560s 3ms/step - loss: 1.3855\n",
      "Epoch 6/10\n",
      "181475/181475 [==============================] - 574s 3ms/step - loss: 1.3572\n",
      "Epoch 7/10\n",
      "181475/181475 [==============================] - 472s 3ms/step - loss: 1.3322\n",
      "Epoch 8/10\n",
      "181475/181475 [==============================] - 450s 2ms/step - loss: 1.3103\n",
      "Epoch 9/10\n",
      "181475/181475 [==============================] - 470s 3ms/step - loss: 1.2909\n",
      "Epoch 10/10\n",
      "181475/181475 [==============================] - 449s 2ms/step - loss: 1.2735\n"
     ]
    }
   ],
   "source": [
    "textgen.train_on_texts(open(\"Hamlet.txt\").readlines(), num_epochs=10)"
   ]
  },
  {
   "cell_type": "code",
   "execution_count": 9,
   "metadata": {},
   "outputs": [
    {
     "name": "stdout",
     "output_type": "stream",
     "text": [
      "HAMLET \n",
      "\n",
      "\n"
     ]
    }
   ],
   "source": [
    "textgen.generate()"
   ]
  },
  {
   "cell_type": "code",
   "execution_count": 10,
   "metadata": {},
   "outputs": [
    {
     "name": "stdout",
     "output_type": "stream",
     "text": [
      "HAMLET \n",
      "\n",
      "\n"
     ]
    }
   ],
   "source": [
    "textgen.generate()"
   ]
  },
  {
   "cell_type": "code",
   "execution_count": 11,
   "metadata": {},
   "outputs": [
    {
     "name": "stdout",
     "output_type": "stream",
     "text": [
      "HAMLET \n",
      "\n",
      "\n"
     ]
    }
   ],
   "source": [
    "textgen.generate()"
   ]
  },
  {
   "cell_type": "code",
   "execution_count": null,
   "metadata": {
    "collapsed": true
   },
   "outputs": [],
   "source": []
  }
 ],
 "metadata": {
  "kernelspec": {
   "display_name": "Python 3",
   "language": "python",
   "name": "python3"
  },
  "language_info": {
   "codemirror_mode": {
    "name": "ipython",
    "version": 3
   },
   "file_extension": ".py",
   "mimetype": "text/x-python",
   "name": "python",
   "nbconvert_exporter": "python",
   "pygments_lexer": "ipython3",
   "version": "3.6.3"
  }
 },
 "nbformat": 4,
 "nbformat_minor": 2
}
