{
 "cells": [
  {
   "cell_type": "code",
   "execution_count": 1,
   "metadata": {
    "collapsed": true
   },
   "outputs": [],
   "source": [
    "from shmarkov import *"
   ]
  },
  {
   "cell_type": "code",
   "execution_count": 2,
   "metadata": {
    "collapsed": true
   },
   "outputs": [],
   "source": [
    "debate1_str = open(\"first_debate.txt\").read()"
   ]
  },
  {
   "cell_type": "code",
   "execution_count": 3,
   "metadata": {
    "collapsed": true
   },
   "outputs": [],
   "source": [
    "model = markov_model(4, debate1_str)"
   ]
  },
  {
   "cell_type": "code",
   "execution_count": 4,
   "metadata": {},
   "outputs": [
    {
     "name": "stdout",
     "output_type": "stream",
     "text": [
      "atory. You have to deadly. OK?\n",
      "\n",
      "TRUMP: It’s badly, do every recognizant to change in Iran with other to \n"
     ]
    }
   ],
   "source": [
    "print(''.join(gen_from_model(4, model)))"
   ]
  },
  {
   "cell_type": "code",
   "execution_count": 5,
   "metadata": {},
   "outputs": [
    {
     "data": {
      "text/plain": [
       "['But we do always have to tackle the plague of gun violence. We have not been updating from states, organs of ',\n",
       " 'The gun epidemic is the leading cause of tax policies that we never had before, then he should go down the li',\n",
       " 'HOLT: Mr. Trump…',\n",
       " 'Companies bring the country.',\n",
       " 'HOLT: Let me follow up. Stop-and-frisk was found to be unconstitutional in New York — New York — New York Tim',\n",
       " 'But it’s certainly not do first strike.',\n",
       " 'TRUMP: I will. Look, there are Americans, and he really a beautiful.',\n",
       " 'TRUMP: That is absolutely no evidence for it, but I hope the people that have caused this problems we have, a',\n",
       " 'Secretary Clinton also fought it. I mean, can you imagine, we’re doing to us is a very, very tough. And maybe',\n",
       " '(CROSSTALK)',\n",
       " '(APPLAUSE)',\n",
       " 'When I was in the world, it’s good for our national one known as CAFTA, I voted against him.',\n",
       " 'HOLT: Secretary Clinton?',\n",
       " 'It’s also fair to say, if we’re going to do a tremendous income. And that’s worth many, many other country. Y',\n",
       " 'Now, we have them.',\n",
       " 'And they’re going to cut taxes big league, end of story.',\n",
       " 'TRUMP: Well, could I just left Philadelphia, and I just financial crisis, the Great Depression. And believe m',\n",
       " 'CLINTON: Well, one thing. Republicans and Democrats and Republican nominees have releases her e-mails. Why di',\n",
       " 'HOLT: Mr. Trump, could we just saw. Whether it’s anything. We have made so many of us in our government.',\n",
       " 'TRUMP: It’s not nice. And I have — we have the look. She does not show that.']"
      ]
     },
     "execution_count": 5,
     "metadata": {},
     "output_type": "execute_result"
    }
   ],
   "source": [
    "markov_generate_from_lines_in_file(9, open(\"first_debate.txt\"), 20, \"char\")"
   ]
  },
  {
   "cell_type": "code",
   "execution_count": 7,
   "metadata": {},
   "outputs": [
    {
     "data": {
      "text/plain": [
       "['I am determined that we’re in.',\n",
       " 'CLINTON: … tough, long game here. And we’re hoping that within the inner cities and lots of other things, I think we should get — because if you want to see some very bad things happen, because the taxes are so far above what they were supposed to cost. We buy products for our country, whether it’s anything you can deny that.',\n",
       " 'So you’ve got to ask you to defend themselves or they have a son. He’s 10 years old. He has computers. He is so that voters tell us what they’re doing.',\n",
       " 'TRUMP: I did not. I do not say that.',\n",
       " 'TRUMP: It’s not an accurate one. So I just want to make that 15 or 20 years ago, I read on the wealthy and corporations paid their fair share. Number two — your president thinks.',\n",
       " 'How are you, Donald?',\n",
       " 'I will tell you to do…',\n",
       " 'When I got him to produce the birth certificate. And I think that’s a lot of businesses on the progress we’ve made over the last — so she’s got experience, but it’s very important. Secretary Clinton is talking about taking out ISIS. But you haven’t paid any federal income tax for a tax — it’s — it’s really a beautiful thing, and then five police officers were killed one night very violently. So there’s some bad things going on.',\n",
       " 'And when these people that shouldn’t be — when you look at what’s going on in Charlotte, a city where I filed a 104-page essentially financial statement of sorts, the forms that they can get, and, yes, it determines how they’re treated in the world. And it just seems to me that this campaign has caused some questioning and worries on the issue of your golf courses. It’s a beautiful thing, and then we ask the question is, what do we prevent attacks? How do you make and bring them into our next segment.',\n",
       " 'HOLT: Please just take 30 seconds and then five police officers who equally want reform. So we have mutual defense treaties and we think of solutions.',\n",
       " 'Let me give you a better community, you know, the vibrancy of the biggest tax cuts that would cause the repatriation, bringing back of money outside of our country, our economy, and our country that has been effective. And not go to Afghanistan with us to see again.',\n",
       " 'TRUMP: Your husband signed NAFTA, which is unusual for the wealthy. I’d like to just respond, if I might.',\n",
       " 'But we went from 2,200 to 500. And it just seems to me and other people — he’s willing to accept the outcome of this country. Our institutions are under cyber attack, and our economy generally is — this is Secretary Clinton’s two minutes.',\n",
       " 'Now, whether that was Russia, whether that was ready to fall, I mean, can you imagine, we’re defending Saudi Arabia? And with all of their people. All you have a tax increase on the inner cities — and more are coming. And I’m saying, where is this? Is this a lot. And, you know, for what I do.',\n",
       " 'TRUMP: You have so many good, brave police officers were killed one night very violently. So there’s some bad things happen, because the only thing that looks good is the worst deals ever made by any country in terms of our allies, and that’s something that never should have never been there. But we’re opening the Old Post Office. Under budget, ahead of schedule, saved tremendous money. I’m a businessperson. I did not work. It got us into the pockets of American works?',\n",
       " 'And when these people that are there. And when people are on the part of this. How do you think you’re going to be with you. He provided a good deal, but when it comes to devaluations and all these other places.',\n",
       " 'TRUMP: That is the biggest plants anywhere in the world, and I held them all to his benefit. He started his political activity based on this debate stage, and Lester Holt was going to criticize a deal to — during the last little while with the other problems with Iran. But personally, I’d rather deal with mandatory minimum sentences, which have put too many people away for too long for doing too little.',\n",
       " 'CLINTON: Well, let’s stop for a long time, change the laws, you’ve been fighting ISIS your entire adult life.',\n",
       " 'I can tell you. I haven’t given lots of other people. But I’m all for NATO. But two things.',\n",
       " 'HOLT: All right, Mr. Trump, you’re calling for major jobs, because we pay approximately 73 percent of the countries that we don’t know who you refused to pay when they raise interest rates at this level. And believe me, this country thinks it’s — I think it was before the invasion. What makes your…']"
      ]
     },
     "execution_count": 7,
     "metadata": {},
     "output_type": "execute_result"
    }
   ],
   "source": [
    "markov_generate_from_lines_in_file(2, open(\"first_debate.txt\"), 20, \"word\")"
   ]
  },
  {
   "cell_type": "code",
   "execution_count": 8,
   "metadata": {},
   "outputs": [
    {
     "data": {
      "text/plain": [
       "['HOLT: … why is your judgment…',\n",
       " 'HOLT: … why is your judgment any different than Mrs. Clinton’s judgment?',\n",
       " 'TRUMP: You have — wait a minute. Wait a minute, Lester. You asked me a question. Did you ask me a question?',\n",
       " 'CLINTON: I think my strongest asset, maybe by far, is my temperament. I have a winning fight. Because they’re using our country twice.',\n",
       " 'And we’ll guess. We’ll keep guessing at what you do is take a look at what ISIS is doing political — by keeping the interest rates at this level. And believe me: We’re in a certain garb, very famous pictures. I don’t do on you. Maybe I’m trying to — I give credit — I really don’t think anybody knows it was true. So when you tried to switch from looks to stamina. But this is a huge problem. I have put too many people away for too long for doing too little.',\n",
       " 'CLINTON: Nine million people — he’s willing to say that is not in more tax cuts in history. You are going to sit idly by and permit state actors to go into effect, we would offer and provide that.',\n",
       " 'TRUMP: Why not?',\n",
       " 'CLINTON: Well, it’s also fair to say, oh, that’s not the right ways of doing it, and now you’re just starting to think of ISIS certainly as over there, but there are things we can do this, because they can’t work out from there.',\n",
       " 'HOLT: OK, you are unpacking a lot of wealthy people know that. And that was — is George W. Bush made the agreement about when American troops could have stayed in Iraq is to let loose cyber attackers to hack into Americans. That is your judgment…',\n",
       " 'And, Hillary, I’d just ask you for five…']"
      ]
     },
     "execution_count": 8,
     "metadata": {},
     "output_type": "execute_result"
    }
   ],
   "source": [
    "markov_generate_from_lines_in_file(2, open(\"first_debate.txt\"), 10, \"word\")"
   ]
  },
  {
   "cell_type": "code",
   "execution_count": 9,
   "metadata": {},
   "outputs": [
    {
     "data": {
      "text/plain": [
       "['CLINTON: Do the thousands of people that he didn’t pay a fair share to support our Arab and Kurdish partners.',\n",
       " 'TRUMP: It’s not nice.” But she spent hundreds of companies incentives, they’re not prosecutor. We’re going to',\n",
       " 'As far as I think there may be a couple of words, and there’s not a happy camper.',\n",
       " 'CLINTON: No.',\n",
       " 'TRUMP: Excuse me. And this next two-minute answer goes to you.',\n",
       " 'TRUMP: We cannot let it happen. Our country thinks it’s — really turn our attention to terrorists ever get th',\n",
       " 'TRUMP: The record six straight years, but never going to Mexico. They have to do much more with our tech comp',\n",
       " 'We have a very good cooperation with law enforcement in New York Times, which is unusual for the housing cris',\n",
       " 'CLINTON: They want more assistance. And the world, it’s good for our country, and they don’t pay any federal ',\n",
       " 'CLINTON: Well, you just thinking that they weren’t taken care of. I will release my tax returns for decades i',\n",
       " 'TRUMP: Murders are up. All right, Mr. Trump, could we just saw in New York Times, which had me totally out of',\n",
       " 'HOLT: Let me follow up. Stop-and-frisk brought him down. And we can’t bring the jobs leave. The commission of',\n",
       " 'And I understand that. You know, really smart, wealthy pay their fair share. Number two — and this is Secreta',\n",
       " '(LAUGHTER)',\n",
       " 'CLINTON: And she has become a way of life. I get audited? I get audited almost every year.',\n",
       " 'TRUMP: That is absolutely untrue. And that’s what this was before on immigration. I was just endorsed by ICE.',\n",
       " 'TRUMP: Look, here’s the thing — the things that we have not released. And — as soon as she releases her e-mai',\n",
       " 'But you look at the mess that we’re in. Look at the inner cities — and I spoke to him about it. But I would g',\n",
       " 'HOLT: Mr. Trump, very quickly, so professionally to the debt by over $5 trillion that they have to look very,',\n",
       " 'CLINTON: That’s about a woman in a beauty contests, supporting and lifting up.']"
      ]
     },
     "execution_count": 9,
     "metadata": {},
     "output_type": "execute_result"
    }
   ],
   "source": [
    "markov_generate_from_lines_in_file(9, open(\"first_debate.txt\"), 20, \"char\")"
   ]
  },
  {
   "cell_type": "code",
   "execution_count": null,
   "metadata": {
    "collapsed": true
   },
   "outputs": [],
   "source": []
  }
 ],
 "metadata": {
  "kernelspec": {
   "display_name": "Python 3",
   "language": "python",
   "name": "python3"
  },
  "language_info": {
   "codemirror_mode": {
    "name": "ipython",
    "version": 3
   },
   "file_extension": ".py",
   "mimetype": "text/x-python",
   "name": "python",
   "nbconvert_exporter": "python",
   "pygments_lexer": "ipython3",
   "version": "3.6.3"
  }
 },
 "nbformat": 4,
 "nbformat_minor": 2
}
