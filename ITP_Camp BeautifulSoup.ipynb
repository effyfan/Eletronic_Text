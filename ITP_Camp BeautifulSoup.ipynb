{
 "cells": [
  {
   "cell_type": "markdown",
   "metadata": {},
   "source": [
    "# Scraping HTML with BeautifulSoup"
   ]
  },
  {
   "cell_type": "code",
   "execution_count": 1,
   "metadata": {
    "collapsed": true
   },
   "outputs": [],
   "source": [
    "import requests"
   ]
  },
  {
   "cell_type": "code",
   "execution_count": 2,
   "metadata": {
    "collapsed": true
   },
   "outputs": [],
   "source": [
    "from bs4 import BeautifulSoup"
   ]
  },
  {
   "cell_type": "code",
   "execution_count": 3,
   "metadata": {
    "collapsed": true
   },
   "outputs": [],
   "source": [
    "reap = requests.get(\"http://static.decontextualize.com/kittens.html\")"
   ]
  },
  {
   "cell_type": "code",
   "execution_count": 45,
   "metadata": {},
   "outputs": [
    {
     "data": {
      "text/plain": [
       "<Response [200]>"
      ]
     },
     "execution_count": 45,
     "metadata": {},
     "output_type": "execute_result"
    }
   ],
   "source": [
    "reap"
   ]
  },
  {
   "cell_type": "code",
   "execution_count": 4,
   "metadata": {
    "scrolled": true
   },
   "outputs": [
    {
     "data": {
      "text/plain": [
       "'<!doctype html>\\n<html>\\n\\t<head>\\n\\t\\t<title>Kittens!</title>\\n\\t\\t<style type=\"text/css\">\\n\\t\\t\\tspan.lastcheckup { font-family: \"Courier\", fixed; font-size: 11px; }\\n\\t\\t</style>\\n\\t</head>\\n\\t<body>\\n\\t\\t<h1>Kittens and the TV Shows They Love</h1>\\n\\t\\t<div class=\"kitten\">\\n\\t\\t\\t<h2>Fluffy</h2>\\n\\t\\t\\t<div><img src=\"http://placekitten.com/120/120\"></div>\\n\\t\\t\\t<ul class=\"tvshows\">\\n\\t\\t\\t\\t<li>\\n\\t\\t\\t\\t\\t<a href=\"http://www.imdb.com/title/tt0106145/\">Deep Space Nine</a>\\n\\t\\t\\t\\t</li>\\n\\t\\t\\t\\t<li>\\n\\t\\t\\t\\t\\t<a href=\"http://www.imdb.com/title/tt0088576/\">Mr. Belvedere</a>\\n\\t\\t\\t\\t</li>\\n\\t\\t\\t</ul>\\n\\t\\t\\tLast check-up: <span class=\"lastcheckup\">2014-01-17</span>\\n\\t\\t</div>\\n\\t\\t<div class=\"kitten\">\\n\\t\\t\\t<h2>Monsieur Whiskeurs</h2>\\n\\t\\t\\t<div><img src=\"http://placekitten.com/110/110\"></div>\\n\\t\\t\\t<ul class=\"tvshows\">\\n\\t\\t\\t\\t<li>\\n\\t\\t\\t\\t\\t<a href=\"http://www.imdb.com/title/tt0106179/\">The X-Files</a>\\n\\t\\t\\t\\t</li>\\n\\t\\t\\t\\t<li>\\n\\t\\t\\t\\t\\t<a href=\"http://www.imdb.com/title/tt0098800/\">Fresh Prince</a>\\n\\t\\t\\t\\t</li>\\n\\t\\t\\t</ul>\\n\\t\\t\\tLast check-up: <span class=\"lastcheckup\">2013-11-02</span>\\n\\t\\t</div>\\n\\t</body>\\n</html>\\n\\n'"
      ]
     },
     "execution_count": 4,
     "metadata": {},
     "output_type": "execute_result"
    }
   ],
   "source": [
    "reap.text"
   ]
  },
  {
   "cell_type": "code",
   "execution_count": 5,
   "metadata": {
    "collapsed": true
   },
   "outputs": [],
   "source": [
    "html_str = reap.text"
   ]
  },
  {
   "cell_type": "code",
   "execution_count": 6,
   "metadata": {},
   "outputs": [
    {
     "data": {
      "text/plain": [
       "'<!doctype html>\\n<html>\\n\\t<head>\\n\\t\\t<title>Kittens!</title>\\n\\t\\t<style type=\"text/css\">\\n\\t\\t\\tspan.lastcheckup { font-family: \"Courier\", fixed; font-size: 11px; }\\n\\t\\t</style>\\n\\t</head>\\n\\t<body>\\n\\t\\t<h1>Kittens and the TV Shows They Love</h1>\\n\\t\\t<div class=\"kitten\">\\n\\t\\t\\t<h2>Fluffy</h2>\\n\\t\\t\\t<div><img src=\"http://placekitten.com/120/120\"></div>\\n\\t\\t\\t<ul class=\"tvshows\">\\n\\t\\t\\t\\t<li>\\n\\t\\t\\t\\t\\t<a href=\"http://www.imdb.com/title/tt0106145/\">Deep Space Nine</a>\\n\\t\\t\\t\\t</li>\\n\\t\\t\\t\\t<li>\\n\\t\\t\\t\\t\\t<a href=\"http://www.imdb.com/title/tt0088576/\">Mr. Belvedere</a>\\n\\t\\t\\t\\t</li>\\n\\t\\t\\t</ul>\\n\\t\\t\\tLast check-up: <span class=\"lastcheckup\">2014-01-17</span>\\n\\t\\t</div>\\n\\t\\t<div class=\"kitten\">\\n\\t\\t\\t<h2>Monsieur Whiskeurs</h2>\\n\\t\\t\\t<div><img src=\"http://placekitten.com/110/110\"></div>\\n\\t\\t\\t<ul class=\"tvshows\">\\n\\t\\t\\t\\t<li>\\n\\t\\t\\t\\t\\t<a href=\"http://www.imdb.com/title/tt0106179/\">The X-Files</a>\\n\\t\\t\\t\\t</li>\\n\\t\\t\\t\\t<li>\\n\\t\\t\\t\\t\\t<a href=\"http://www.imdb.com/title/tt0098800/\">Fresh Prince</a>\\n\\t\\t\\t\\t</li>\\n\\t\\t\\t</ul>\\n\\t\\t\\tLast check-up: <span class=\"lastcheckup\">2013-11-02</span>\\n\\t\\t</div>\\n\\t</body>\\n</html>\\n\\n'"
      ]
     },
     "execution_count": 6,
     "metadata": {},
     "output_type": "execute_result"
    }
   ],
   "source": [
    "html_str"
   ]
  },
  {
   "cell_type": "code",
   "execution_count": 7,
   "metadata": {
    "collapsed": true
   },
   "outputs": [],
   "source": [
    "document = BeautifulSoup(html_str, \"html.parser\")"
   ]
  },
  {
   "cell_type": "code",
   "execution_count": 8,
   "metadata": {},
   "outputs": [
    {
     "data": {
      "text/plain": [
       "bs4.BeautifulSoup"
      ]
     },
     "execution_count": 8,
     "metadata": {},
     "output_type": "execute_result"
    }
   ],
   "source": [
    "type(document)"
   ]
  },
  {
   "cell_type": "code",
   "execution_count": 10,
   "metadata": {},
   "outputs": [
    {
     "data": {
      "text/plain": [
       "<!DOCTYPE doctype html>\n",
       "\n",
       "<html>\n",
       "<head>\n",
       "<title>Kittens!</title>\n",
       "<style type=\"text/css\">\n",
       "\t\t\tspan.lastcheckup { font-family: \"Courier\", fixed; font-size: 11px; }\n",
       "\t\t</style>\n",
       "</head>\n",
       "<body>\n",
       "<h1>Kittens and the TV Shows They Love</h1>\n",
       "<div class=\"kitten\">\n",
       "<h2>Fluffy</h2>\n",
       "<div><img src=\"http://placekitten.com/120/120\"/></div>\n",
       "<ul class=\"tvshows\">\n",
       "<li>\n",
       "<a href=\"http://www.imdb.com/title/tt0106145/\">Deep Space Nine</a>\n",
       "</li>\n",
       "<li>\n",
       "<a href=\"http://www.imdb.com/title/tt0088576/\">Mr. Belvedere</a>\n",
       "</li>\n",
       "</ul>\n",
       "\t\t\tLast check-up: <span class=\"lastcheckup\">2014-01-17</span>\n",
       "</div>\n",
       "<div class=\"kitten\">\n",
       "<h2>Monsieur Whiskeurs</h2>\n",
       "<div><img src=\"http://placekitten.com/110/110\"/></div>\n",
       "<ul class=\"tvshows\">\n",
       "<li>\n",
       "<a href=\"http://www.imdb.com/title/tt0106179/\">The X-Files</a>\n",
       "</li>\n",
       "<li>\n",
       "<a href=\"http://www.imdb.com/title/tt0098800/\">Fresh Prince</a>\n",
       "</li>\n",
       "</ul>\n",
       "\t\t\tLast check-up: <span class=\"lastcheckup\">2013-11-02</span>\n",
       "</div>\n",
       "</body>\n",
       "</html>"
      ]
     },
     "execution_count": 10,
     "metadata": {},
     "output_type": "execute_result"
    }
   ],
   "source": [
    "document"
   ]
  },
  {
   "cell_type": "code",
   "execution_count": 11,
   "metadata": {
    "collapsed": true
   },
   "outputs": [],
   "source": [
    "h1_tag = document.find('h1')"
   ]
  },
  {
   "cell_type": "code",
   "execution_count": 46,
   "metadata": {},
   "outputs": [
    {
     "data": {
      "text/plain": [
       "bs4.element.Tag"
      ]
     },
     "execution_count": 46,
     "metadata": {},
     "output_type": "execute_result"
    }
   ],
   "source": [
    "type(h1_tag)"
   ]
  },
  {
   "cell_type": "code",
   "execution_count": 13,
   "metadata": {
    "scrolled": true
   },
   "outputs": [
    {
     "data": {
      "text/plain": [
       "<h1>Kittens and the TV Shows They Love</h1>"
      ]
     },
     "execution_count": 13,
     "metadata": {},
     "output_type": "execute_result"
    }
   ],
   "source": [
    "h1_tag"
   ]
  },
  {
   "cell_type": "code",
   "execution_count": 48,
   "metadata": {},
   "outputs": [
    {
     "data": {
      "text/plain": [
       "'Kittens and the TV Shows They Love'"
      ]
     },
     "execution_count": 48,
     "metadata": {},
     "output_type": "execute_result"
    }
   ],
   "source": [
    "h1_tag.string"
   ]
  },
  {
   "cell_type": "code",
   "execution_count": 49,
   "metadata": {
    "collapsed": true
   },
   "outputs": [],
   "source": [
    "h2_tags = document.find_all('h2')"
   ]
  },
  {
   "cell_type": "code",
   "execution_count": 50,
   "metadata": {},
   "outputs": [
    {
     "data": {
      "text/plain": [
       "[<h2>Fluffy</h2>, <h2>Monsieur Whiskeurs</h2>]"
      ]
     },
     "execution_count": 50,
     "metadata": {},
     "output_type": "execute_result"
    }
   ],
   "source": [
    "h2_tags"
   ]
  },
  {
   "cell_type": "code",
   "execution_count": 51,
   "metadata": {
    "scrolled": true
   },
   "outputs": [
    {
     "data": {
      "text/plain": [
       "'Fluffy'"
      ]
     },
     "execution_count": 51,
     "metadata": {},
     "output_type": "execute_result"
    }
   ],
   "source": [
    "h2_tags[0].string"
   ]
  },
  {
   "cell_type": "code",
   "execution_count": 54,
   "metadata": {},
   "outputs": [
    {
     "data": {
      "text/plain": [
       "'Monsieur Whiskeurs'"
      ]
     },
     "execution_count": 54,
     "metadata": {},
     "output_type": "execute_result"
    }
   ],
   "source": [
    "h2_tags[1].string"
   ]
  },
  {
   "cell_type": "code",
   "execution_count": 55,
   "metadata": {},
   "outputs": [
    {
     "data": {
      "text/plain": [
       "['Fluffy', 'Monsieur Whiskeurs']"
      ]
     },
     "execution_count": 55,
     "metadata": {},
     "output_type": "execute_result"
    }
   ],
   "source": [
    "[item.string for item in h2_tags]"
   ]
  },
  {
   "cell_type": "code",
   "execution_count": 53,
   "metadata": {
    "collapsed": true
   },
   "outputs": [],
   "source": [
    "img_tag = document.find('img')"
   ]
  },
  {
   "cell_type": "code",
   "execution_count": 15,
   "metadata": {},
   "outputs": [
    {
     "data": {
      "text/plain": [
       "<img src=\"http://placekitten.com/120/120\"/>"
      ]
     },
     "execution_count": 15,
     "metadata": {},
     "output_type": "execute_result"
    }
   ],
   "source": [
    "img_tag"
   ]
  },
  {
   "cell_type": "code",
   "execution_count": 16,
   "metadata": {},
   "outputs": [
    {
     "data": {
      "text/plain": [
       "'http://placekitten.com/120/120'"
      ]
     },
     "execution_count": 16,
     "metadata": {},
     "output_type": "execute_result"
    }
   ],
   "source": [
    "img_tag[\"src\"]"
   ]
  },
  {
   "cell_type": "code",
   "execution_count": 17,
   "metadata": {
    "collapsed": true
   },
   "outputs": [],
   "source": [
    "img_tags = document.find_all('img')"
   ]
  },
  {
   "cell_type": "code",
   "execution_count": 33,
   "metadata": {
    "scrolled": true
   },
   "outputs": [
    {
     "data": {
      "text/plain": [
       "[<img src=\"http://placekitten.com/120/120\"/>,\n",
       " <img src=\"http://placekitten.com/110/110\"/>]"
      ]
     },
     "execution_count": 33,
     "metadata": {},
     "output_type": "execute_result"
    }
   ],
   "source": [
    "img_tags"
   ]
  },
  {
   "cell_type": "code",
   "execution_count": 56,
   "metadata": {},
   "outputs": [
    {
     "data": {
      "text/plain": [
       "bs4.element.ResultSet"
      ]
     },
     "execution_count": 56,
     "metadata": {},
     "output_type": "execute_result"
    }
   ],
   "source": [
    "type(img_tags)"
   ]
  },
  {
   "cell_type": "code",
   "execution_count": 57,
   "metadata": {
    "scrolled": true
   },
   "outputs": [
    {
     "ename": "KeyError",
     "evalue": "0",
     "output_type": "error",
     "traceback": [
      "\u001b[0;31m---------------------------------------------------------------------------\u001b[0m",
      "\u001b[0;31mKeyError\u001b[0m                                  Traceback (most recent call last)",
      "\u001b[0;32m<ipython-input-57-a8d92584c388>\u001b[0m in \u001b[0;36m<module>\u001b[0;34m()\u001b[0m\n\u001b[0;32m----> 1\u001b[0;31m \u001b[0mimg_tag\u001b[0m\u001b[0;34m[\u001b[0m\u001b[0;36m0\u001b[0m\u001b[0;34m]\u001b[0m\u001b[0;34m.\u001b[0m\u001b[0mstring\u001b[0m \u001b[0;31m## errr, because no string in img tags\u001b[0m\u001b[0;34m\u001b[0m\u001b[0m\n\u001b[0m",
      "\u001b[0;32m~/anaconda3/lib/python3.6/site-packages/bs4/element.py\u001b[0m in \u001b[0;36m__getitem__\u001b[0;34m(self, key)\u001b[0m\n\u001b[1;32m   1009\u001b[0m         \"\"\"tag[key] returns the value of the 'key' attribute for the tag,\n\u001b[1;32m   1010\u001b[0m         and throws an exception if it's not there.\"\"\"\n\u001b[0;32m-> 1011\u001b[0;31m         \u001b[0;32mreturn\u001b[0m \u001b[0mself\u001b[0m\u001b[0;34m.\u001b[0m\u001b[0mattrs\u001b[0m\u001b[0;34m[\u001b[0m\u001b[0mkey\u001b[0m\u001b[0;34m]\u001b[0m\u001b[0;34m\u001b[0m\u001b[0m\n\u001b[0m\u001b[1;32m   1012\u001b[0m \u001b[0;34m\u001b[0m\u001b[0m\n\u001b[1;32m   1013\u001b[0m     \u001b[0;32mdef\u001b[0m \u001b[0m__iter__\u001b[0m\u001b[0;34m(\u001b[0m\u001b[0mself\u001b[0m\u001b[0;34m)\u001b[0m\u001b[0;34m:\u001b[0m\u001b[0;34m\u001b[0m\u001b[0m\n",
      "\u001b[0;31mKeyError\u001b[0m: 0"
     ]
    }
   ],
   "source": [
    "img_tag[0].string ## errr, because no string in img tags"
   ]
  },
  {
   "cell_type": "code",
   "execution_count": 58,
   "metadata": {},
   "outputs": [
    {
     "data": {
      "text/plain": [
       "'http://placekitten.com/120/120'"
      ]
     },
     "execution_count": 58,
     "metadata": {},
     "output_type": "execute_result"
    }
   ],
   "source": [
    "img_tags[0][\"src\"]"
   ]
  },
  {
   "cell_type": "code",
   "execution_count": 59,
   "metadata": {},
   "outputs": [
    {
     "data": {
      "text/plain": [
       "['http://placekitten.com/120/120', 'http://placekitten.com/110/110']"
      ]
     },
     "execution_count": 59,
     "metadata": {},
     "output_type": "execute_result"
    }
   ],
   "source": [
    "[item[\"src\"] for item in img_tags]"
   ]
  },
  {
   "cell_type": "code",
   "execution_count": 60,
   "metadata": {
    "collapsed": true
   },
   "outputs": [],
   "source": [
    "checkups = document.find_all(\"span\", attrs={'class': 'lastcheckup'})"
   ]
  },
  {
   "cell_type": "code",
   "execution_count": 61,
   "metadata": {},
   "outputs": [
    {
     "data": {
      "text/plain": [
       "[<span class=\"lastcheckup\">2014-01-17</span>,\n",
       " <span class=\"lastcheckup\">2013-11-02</span>]"
      ]
     },
     "execution_count": 61,
     "metadata": {},
     "output_type": "execute_result"
    }
   ],
   "source": [
    "checkups"
   ]
  },
  {
   "cell_type": "code",
   "execution_count": 63,
   "metadata": {},
   "outputs": [
    {
     "data": {
      "text/plain": [
       "['2014-01-17', '2013-11-02']"
      ]
     },
     "execution_count": 63,
     "metadata": {},
     "output_type": "execute_result"
    }
   ],
   "source": [
    "[item.string for item in checkups]"
   ]
  },
  {
   "cell_type": "markdown",
   "metadata": {},
   "source": [
    "## Kitten Tags"
   ]
  },
  {
   "cell_type": "code",
   "execution_count": 64,
   "metadata": {
    "collapsed": true
   },
   "outputs": [],
   "source": [
    "kitten_tags = document.find_all(\"div\", attrs={\"class\": \"kitten\"})"
   ]
  },
  {
   "cell_type": "code",
   "execution_count": 66,
   "metadata": {},
   "outputs": [
    {
     "data": {
      "text/plain": [
       "<div class=\"kitten\">\n",
       "<h2>Fluffy</h2>\n",
       "<div><img src=\"http://placekitten.com/120/120\"/></div>\n",
       "<ul class=\"tvshows\">\n",
       "<li>\n",
       "<a href=\"http://www.imdb.com/title/tt0106145/\">Deep Space Nine</a>\n",
       "</li>\n",
       "<li>\n",
       "<a href=\"http://www.imdb.com/title/tt0088576/\">Mr. Belvedere</a>\n",
       "</li>\n",
       "</ul>\n",
       "\t\t\tLast check-up: <span class=\"lastcheckup\">2014-01-17</span>\n",
       "</div>"
      ]
     },
     "execution_count": 66,
     "metadata": {},
     "output_type": "execute_result"
    }
   ],
   "source": [
    "kitten_tags[0]"
   ]
  },
  {
   "cell_type": "code",
   "execution_count": 67,
   "metadata": {},
   "outputs": [
    {
     "data": {
      "text/plain": [
       "bs4.element.Tag"
      ]
     },
     "execution_count": 67,
     "metadata": {},
     "output_type": "execute_result"
    }
   ],
   "source": [
    "type(kitten_tags[0])"
   ]
  },
  {
   "cell_type": "code",
   "execution_count": 68,
   "metadata": {},
   "outputs": [
    {
     "data": {
      "text/plain": [
       "bs4.element.ResultSet"
      ]
     },
     "execution_count": 68,
     "metadata": {},
     "output_type": "execute_result"
    }
   ],
   "source": [
    "type(kitten_tags)"
   ]
  },
  {
   "cell_type": "code",
   "execution_count": 69,
   "metadata": {
    "collapsed": true
   },
   "outputs": [],
   "source": [
    "first_kitten = kitten_tags[0]"
   ]
  },
  {
   "cell_type": "code",
   "execution_count": 70,
   "metadata": {},
   "outputs": [
    {
     "data": {
      "text/plain": [
       "<h2>Fluffy</h2>"
      ]
     },
     "execution_count": 70,
     "metadata": {},
     "output_type": "execute_result"
    }
   ],
   "source": [
    "first_kitten.find('h2')"
   ]
  },
  {
   "cell_type": "code",
   "execution_count": 71,
   "metadata": {},
   "outputs": [
    {
     "name": "stdout",
     "output_type": "stream",
     "text": [
      "Fluffy\n",
      "Monsieur Whiskeurs\n"
     ]
    }
   ],
   "source": [
    "for item in kitten_tags:\n",
    "    this_h2 = item.find('h2')\n",
    "    print(this_h2.string)"
   ]
  },
  {
   "cell_type": "code",
   "execution_count": 72,
   "metadata": {},
   "outputs": [
    {
     "name": "stdout",
     "output_type": "stream",
     "text": [
      "Fluffy\n",
      "Deep Space Nine, Mr. Belvedere\n",
      "Monsieur Whiskeurs\n",
      "The X-Files, Fresh Prince\n"
     ]
    }
   ],
   "source": [
    "for item in kitten_tags:\n",
    "    this_h2 = item.find('h2')\n",
    "    print(this_h2.string)\n",
    "    a_tags = item.find_all('a')\n",
    "    a_tags_str = [t.string for t in a_tags]\n",
    "    print(\", \".join(a_tags_str))"
   ]
  },
  {
   "cell_type": "markdown",
   "metadata": {},
   "source": [
    "### Download Image"
   ]
  },
  {
   "cell_type": "code",
   "execution_count": 74,
   "metadata": {},
   "outputs": [
    {
     "name": "stdout",
     "output_type": "stream",
     "text": [
      "120\n",
      "110\n"
     ]
    }
   ],
   "source": [
    "for item in img_tags:\n",
    "    url = item[\"src\"]\n",
    "    img_reap = requests.get(url)\n",
    "    fname = url.split(\"/\")[-1]\n",
    "    open(fname, \"wb\").write(img_reap.content)\n",
    "    time.sleep(0.5)\n",
    "    print(fname)"
   ]
  },
  {
   "cell_type": "code",
   "execution_count": null,
   "metadata": {
    "collapsed": true
   },
   "outputs": [],
   "source": []
  },
  {
   "cell_type": "markdown",
   "metadata": {},
   "source": [
    "## Pick your own website to scrape!"
   ]
  },
  {
   "cell_type": "code",
   "execution_count": 21,
   "metadata": {},
   "outputs": [],
   "source": [
    "reap2 = requests.get(\"https://tisch.nyu.edu/itp/news\")"
   ]
  },
  {
   "cell_type": "code",
   "execution_count": 22,
   "metadata": {
    "collapsed": true
   },
   "outputs": [],
   "source": [
    "html_str2 = reap2.text"
   ]
  },
  {
   "cell_type": "code",
   "execution_count": 75,
   "metadata": {},
   "outputs": [
    {
     "data": {
      "text/plain": [
       "56737"
      ]
     },
     "execution_count": 75,
     "metadata": {},
     "output_type": "execute_result"
    }
   ],
   "source": [
    "html_str2.find(\"media-content__wrap\")"
   ]
  },
  {
   "cell_type": "code",
   "execution_count": 23,
   "metadata": {
    "collapsed": true
   },
   "outputs": [],
   "source": [
    "document2 = BeautifulSoup(html_str2, \"html.parser\")"
   ]
  },
  {
   "cell_type": "code",
   "execution_count": 24,
   "metadata": {
    "collapsed": true
   },
   "outputs": [],
   "source": [
    "import time"
   ]
  },
  {
   "cell_type": "code",
   "execution_count": 27,
   "metadata": {
    "collapsed": true
   },
   "outputs": [],
   "source": [
    "news_lis = document2.find_all('li', {\"class\": \"media-item--maj\"})"
   ]
  },
  {
   "cell_type": "code",
   "execution_count": 30,
   "metadata": {},
   "outputs": [
    {
     "data": {
      "text/plain": [
       "[<li class=\"media-item--maj\">\n",
       " <div class=\"media-fig--medium media-fig--clear\">\n",
       " <img alt=\"Women uses VR headset in front of computer at the ITP Spring Show 2018\" src=\"/content/dam/tisch/itp/NewsEvents/2017-2018/springshow2018candid.jpg\"/>\n",
       " </div><!--/media-fig-->\n",
       " <div class=\"media-content__wrap\">\n",
       " <h2 class=\"media-title--major\"><a href=\"/itp/news/spring-2018/itp-spring-show-in-nyu-s-connect\" target=\"\">ITP Spring Show in NYU's Connect</a>\n",
       " <span class=\"social__list--inline\">\n",
       " <a aria-label=\"twitter\" class=\"js-share--tw\" href=\"https://twitter.com/share?url=http%3A%2F%2Ftisch.nyu.edu%2Fprograms-departments%2Fitp%2Fnews%2Fspring-2018%2Fitp-spring-show-in-nyu-s-connect.html&amp;text=News+items+featuring+ITP+and+IMA+students%2C+alumni+and+faculty.\"><span class=\"ss-social-circle ss-twitter\"></span><span class=\"ss-social-hidden\">twitter</span></a>\n",
       " <a aria-label=\"facebook\" class=\"js-share--fb\" data-description=\"News items featuring ITP and IMA students, alumni and faculty.\" data-link=\"http://tisch.nyu.edu/itp/news/spring-2018/itp-spring-show-in-nyu-s-connect.html\" data-name=\"News\" data-picture=\"https://tisch.nyu.edu/content/dam/tisch/itp/GeneralPics/instrument.jpg\" href=\"#\"><span class=\"ss-social-circle ss-facebook\"></span><span class=\"ss-social-hidden\">facebook</span></a>\n",
       " </span><!-- /.social__list inline -->\n",
       " </h2>\n",
       " <p class=\"media-title--minor\">Friday, Jun 8, 2018</p>\n",
       " <p class=\"media-item__content--maj\">ITP's Spring Show was written up in NYU's Connect Journal.</p>\n",
       " <a class=\"media__btn--txt-alt\" href=\"/itp/news/spring-2018/itp-spring-show-in-nyu-s-connect\" target=\"\">Read More</a>\n",
       " </div><!--/media-content__wrap-->\n",
       " </li>, <li class=\"media-item--maj\">\n",
       " <div class=\"media-fig--medium media-fig--clear\">\n",
       " <img alt=\"Person holding an iPad up to a statue that then shows more detail on the AR set-up iPad\" src=\"/content/dam/tisch/itp/NewsEvents/2017-2018/GabeARExhibit.png\"/>\n",
       " </div><!--/media-fig-->\n",
       " <div class=\"media-content__wrap\">\n",
       " <h2 class=\"media-title--major\"><a href=\"/itp/news/spring-2018/itp-faculty-member-s-exhibition-profile-in-cnet\" target=\"\">ITP Faculty Member's Exhibition Profile in CNet</a>\n",
       " <span class=\"social__list--inline\">\n",
       " <a aria-label=\"twitter\" class=\"js-share--tw\" href=\"https://twitter.com/share?url=http%3A%2F%2Ftisch.nyu.edu%2Fprograms-departments%2Fitp%2Fnews%2Fspring-2018%2Fitp-faculty-member-s-exhibition-profile-in-cnet.html&amp;text=News+items+featuring+ITP+and+IMA+students%2C+alumni+and+faculty.\"><span class=\"ss-social-circle ss-twitter\"></span><span class=\"ss-social-hidden\">twitter</span></a>\n",
       " <a aria-label=\"facebook\" class=\"js-share--fb\" data-description=\"News items featuring ITP and IMA students, alumni and faculty.\" data-link=\"http://tisch.nyu.edu/itp/news/spring-2018/itp-faculty-member-s-exhibition-profile-in-cnet.html\" data-name=\"News\" data-picture=\"https://tisch.nyu.edu/content/dam/tisch/itp/GeneralPics/instrument.jpg\" href=\"#\"><span class=\"ss-social-circle ss-facebook\"></span><span class=\"ss-social-hidden\">facebook</span></a>\n",
       " </span><!-- /.social__list inline -->\n",
       " </h2>\n",
       " <p class=\"media-title--minor\">Friday, Jun 8, 2018</p>\n",
       " <p class=\"media-item__content--maj\">ITP Alum and Faculty member, Gabe Barcia-Colombo, has an AR Exhibition that was profiled in CNet.</p>\n",
       " <a class=\"media__btn--txt-alt\" href=\"/itp/news/spring-2018/itp-faculty-member-s-exhibition-profile-in-cnet\" target=\"\">Read More</a>\n",
       " </div><!--/media-content__wrap-->\n",
       " </li>, <li class=\"media-item--maj\">\n",
       " <div class=\"media-fig--medium media-fig--clear\">\n",
       " <img alt=\"Quipu, with it's long strands and knots\" src=\"/content/dam/tisch/itp/NewsEvents/2017-2018/FrancescaIncaQuipu.jpg\"/>\n",
       " </div><!--/media-fig-->\n",
       " <div class=\"media-content__wrap\">\n",
       " <h2 class=\"media-title--major\"><a href=\"/itp/news/spring-2018/itp-alumni-present-at-the-espanola-valley-fiber-arts-festival\" target=\"\">ITP Alumni Present at the Española Valley Fiber Arts Festival</a>\n",
       " <span class=\"social__list--inline\">\n",
       " <a aria-label=\"twitter\" class=\"js-share--tw\" href=\"https://twitter.com/share?url=http%3A%2F%2Ftisch.nyu.edu%2Fprograms-departments%2Fitp%2Fnews%2Fspring-2018%2Fitp-alumni-present-at-the-espanola-valley-fiber-arts-festival.html&amp;text=News+items+featuring+ITP+and+IMA+students%2C+alumni+and+faculty.\"><span class=\"ss-social-circle ss-twitter\"></span><span class=\"ss-social-hidden\">twitter</span></a>\n",
       " <a aria-label=\"facebook\" class=\"js-share--fb\" data-description=\"News items featuring ITP and IMA students, alumni and faculty.\" data-link=\"http://tisch.nyu.edu/itp/news/spring-2018/itp-alumni-present-at-the-espanola-valley-fiber-arts-festival.html\" data-name=\"News\" data-picture=\"https://tisch.nyu.edu/content/dam/tisch/itp/GeneralPics/instrument.jpg\" href=\"#\"><span class=\"ss-social-circle ss-facebook\"></span><span class=\"ss-social-hidden\">facebook</span></a>\n",
       " </span><!-- /.social__list inline -->\n",
       " </h2>\n",
       " <p class=\"media-title--minor\">Wednesday, Jun 6, 2018</p>\n",
       " <p class=\"media-item__content--maj\">ITP Alumni Renata Gaui and Francesca Rodriguez Sawaya will be giving a talk at the Española Valley Fiber Arts Center about their work. </p>\n",
       " <a class=\"media__btn--txt-alt\" href=\"/itp/news/spring-2018/itp-alumni-present-at-the-espanola-valley-fiber-arts-festival\" target=\"\">Read More</a>\n",
       " </div><!--/media-content__wrap-->\n",
       " </li>, <li class=\"media-item--maj\">\n",
       " <div class=\"media-fig--medium media-fig--clear\">\n",
       " <img alt=\"Person in front of computer with yarn and weaving instruments around\" src=\"/content/dam/tisch/itp/NewsEvents/2017-2018/weavingandcoding.jpg\"/>\n",
       " </div><!--/media-fig-->\n",
       " <div class=\"media-content__wrap\">\n",
       " <h2 class=\"media-title--major\"><a href=\"/itp/news/spring-2018/itp-alumni-lead-workshop-at-the-currents-new-media-festival\" target=\"\">ITP Alumni at the Currents New Media Festival</a>\n",
       " <span class=\"social__list--inline\">\n",
       " <a aria-label=\"twitter\" class=\"js-share--tw\" href=\"https://twitter.com/share?url=http%3A%2F%2Ftisch.nyu.edu%2Fprograms-departments%2Fitp%2Fnews%2Fspring-2018%2Fitp-alumni-lead-workshop-at-the-currents-new-media-festival.html&amp;text=News+items+featuring+ITP+and+IMA+students%2C+alumni+and+faculty.\"><span class=\"ss-social-circle ss-twitter\"></span><span class=\"ss-social-hidden\">twitter</span></a>\n",
       " <a aria-label=\"facebook\" class=\"js-share--fb\" data-description=\"News items featuring ITP and IMA students, alumni and faculty.\" data-link=\"http://tisch.nyu.edu/itp/news/spring-2018/itp-alumni-lead-workshop-at-the-currents-new-media-festival.html\" data-name=\"News\" data-picture=\"https://tisch.nyu.edu/content/dam/tisch/itp/GeneralPics/instrument.jpg\" href=\"#\"><span class=\"ss-social-circle ss-facebook\"></span><span class=\"ss-social-hidden\">facebook</span></a>\n",
       " </span><!-- /.social__list inline -->\n",
       " </h2>\n",
       " <p class=\"media-title--minor\">Wednesday, Jun 6, 2018</p>\n",
       " <p class=\"media-item__content--maj\">ITP Alumni Renata Gaui, Francesca Rodriguez Sawaya, Michelle Hessel, Shir David, and Rosalie Yu will be presenting at the Currents New Media Festival in Sante Fe, New Mexico.</p>\n",
       " <a class=\"media__btn--txt-alt\" href=\"/itp/news/spring-2018/itp-alumni-lead-workshop-at-the-currents-new-media-festival\" target=\"\">Read More</a>\n",
       " </div><!--/media-content__wrap-->\n",
       " </li>, <li class=\"media-item--maj\">\n",
       " <div class=\"media-fig--medium media-fig--clear\">\n",
       " <img alt='Two images of Amy Khoshbin, one dressed in a suit and one in whimsical clothing, with an equality sign between then and it says \"You Never Know\"' src=\"/content/dam/tisch/itp/NewsEvents/2017-2018/AmyKhoshbin.png\"/>\n",
       " </div><!--/media-fig-->\n",
       " <div class=\"media-content__wrap\">\n",
       " <h2 class=\"media-title--major\"><a href=\"/itp/news/spring-2018/itp-alum-performs-at-the-whitney-museum\" target=\"\">ITP Alum Performs at the Whitney Museum</a>\n",
       " <span class=\"social__list--inline\">\n",
       " <a aria-label=\"twitter\" class=\"js-share--tw\" href=\"https://twitter.com/share?url=http%3A%2F%2Ftisch.nyu.edu%2Fprograms-departments%2Fitp%2Fnews%2Fspring-2018%2Fitp-alum-performs-at-the-whitney-museum.html&amp;text=News+items+featuring+ITP+and+IMA+students%2C+alumni+and+faculty.\"><span class=\"ss-social-circle ss-twitter\"></span><span class=\"ss-social-hidden\">twitter</span></a>\n",
       " <a aria-label=\"facebook\" class=\"js-share--fb\" data-description=\"News items featuring ITP and IMA students, alumni and faculty.\" data-link=\"http://tisch.nyu.edu/itp/news/spring-2018/itp-alum-performs-at-the-whitney-museum.html\" data-name=\"News\" data-picture=\"https://tisch.nyu.edu/content/dam/tisch/itp/GeneralPics/instrument.jpg\" href=\"#\"><span class=\"ss-social-circle ss-facebook\"></span><span class=\"ss-social-hidden\">facebook</span></a>\n",
       " </span><!-- /.social__list inline -->\n",
       " </h2>\n",
       " <p class=\"media-title--minor\">Tuesday, Jun 5, 2018</p>\n",
       " <p class=\"media-item__content--maj\">ITP Alum Amy Khoshbin will be performing at the Whitney Museum on Friday, June 22nd.</p>\n",
       " <a class=\"media__btn--txt-alt\" href=\"/itp/news/spring-2018/itp-alum-performs-at-the-whitney-museum\" target=\"\">Read More</a>\n",
       " </div><!--/media-content__wrap-->\n",
       " </li>, <li class=\"media-item--maj\">\n",
       " <div class=\"media-fig--medium media-fig--clear\">\n",
       " <img alt=\"Danny Rozin, Wooden Mirror, image of a man displayed in wooden tiles making his appearance appear pixelated \" src=\"/content/dam/tisch/itp/NewsEvents/2017-2018/DannyRozinMirror.png\"/>\n",
       " </div><!--/media-fig-->\n",
       " <div class=\"media-content__wrap\">\n",
       " <h2 class=\"media-title--major\"><a href=\"/itp/news/spring-2018/itp-professor-exhibits-work-in-the-state-hermitage-museum\" target=\"\">ITP Professor Exhibits Work in the State Hermitage Museum</a>\n",
       " <span class=\"social__list--inline\">\n",
       " <a aria-label=\"twitter\" class=\"js-share--tw\" href=\"https://twitter.com/share?url=http%3A%2F%2Ftisch.nyu.edu%2Fprograms-departments%2Fitp%2Fnews%2Fspring-2018%2Fitp-professor-exhibits-work-in-the-state-hermitage-museum.html&amp;text=News+items+featuring+ITP+and+IMA+students%2C+alumni+and+faculty.\"><span class=\"ss-social-circle ss-twitter\"></span><span class=\"ss-social-hidden\">twitter</span></a>\n",
       " <a aria-label=\"facebook\" class=\"js-share--fb\" data-description=\"News items featuring ITP and IMA students, alumni and faculty.\" data-link=\"http://tisch.nyu.edu/itp/news/spring-2018/itp-professor-exhibits-work-in-the-state-hermitage-museum.html\" data-name=\"News\" data-picture=\"https://tisch.nyu.edu/content/dam/tisch/itp/GeneralPics/instrument.jpg\" href=\"#\"><span class=\"ss-social-circle ss-facebook\"></span><span class=\"ss-social-hidden\">facebook</span></a>\n",
       " </span><!-- /.social__list inline -->\n",
       " </h2>\n",
       " <p class=\"media-title--minor\">Friday, Jun 1, 2018</p>\n",
       " <p class=\"media-item__content--maj\">ITP Alum and Professor Danny Rozin has his wooden mirror in the exhibition \"Innovation as Artistic Technique\" in the State Hermitage Museum in Russia. </p>\n",
       " <a class=\"media__btn--txt-alt\" href=\"/itp/news/spring-2018/itp-professor-exhibits-work-in-the-state-hermitage-museum\" target=\"\">Read More</a>\n",
       " </div><!--/media-content__wrap-->\n",
       " </li>, <li class=\"media-item--maj\">\n",
       " <div class=\"media-fig--medium media-fig--clear\">\n",
       " <img alt=\"MolMol Kuo and Zach Lieberman, man and women sit in armchairs, facing the camera\" src=\"/content/dam/tisch/itp/NewsEvents/2017-2018/Molmolandzach.png\"/>\n",
       " </div><!--/media-fig-->\n",
       " <div class=\"media-content__wrap\">\n",
       " <h2 class=\"media-title--major\"><a href=\"/itp/news/spring-2018/itp-alums-profiled-by-national-geographic\" target=\"\">ITP Alums Profiled by National Geographic</a>\n",
       " <span class=\"social__list--inline\">\n",
       " <a aria-label=\"twitter\" class=\"js-share--tw\" href=\"https://twitter.com/share?url=http%3A%2F%2Ftisch.nyu.edu%2Fprograms-departments%2Fitp%2Fnews%2Fspring-2018%2Fitp-alums-profiled-by-national-geographic.html&amp;text=News+items+featuring+ITP+and+IMA+students%2C+alumni+and+faculty.\"><span class=\"ss-social-circle ss-twitter\"></span><span class=\"ss-social-hidden\">twitter</span></a>\n",
       " <a aria-label=\"facebook\" class=\"js-share--fb\" data-description=\"News items featuring ITP and IMA students, alumni and faculty.\" data-link=\"http://tisch.nyu.edu/itp/news/spring-2018/itp-alums-profiled-by-national-geographic.html\" data-name=\"News\" data-picture=\"https://tisch.nyu.edu/content/dam/tisch/itp/GeneralPics/instrument.jpg\" href=\"#\"><span class=\"ss-social-circle ss-facebook\"></span><span class=\"ss-social-hidden\">facebook</span></a>\n",
       " </span><!-- /.social__list inline -->\n",
       " </h2>\n",
       " <p class=\"media-title--minor\">Friday, Jun 1, 2018</p>\n",
       " <p class=\"media-item__content--maj\">ITP Alums Zach Lieberman and MolMol Kuo are changing the way people see the world, and National Geographic sat down with them to learn more.</p>\n",
       " <a class=\"media__btn--txt-alt\" href=\"/itp/news/spring-2018/itp-alums-profiled-by-national-geographic\" target=\"\">Read More</a>\n",
       " </div><!--/media-content__wrap-->\n",
       " </li>, <li class=\"media-item--maj\">\n",
       " <div class=\"media-fig--medium media-fig--clear\">\n",
       " <img alt=\"Installation in front of a large window with wheat stalks planted into the floor inside\" src=\"/content/dam/tisch/itp/NewsEvents/2017-2018/buckwheatfield.JPG\"/>\n",
       " </div><!--/media-fig-->\n",
       " <div class=\"media-content__wrap\">\n",
       " <h2 class=\"media-title--major\"><a href=\"/itp/news/spring-2018/itp-alums-win-nycxdesign-award\" target=\"\">ITP Alums Win NYCxDesign Award</a>\n",
       " <span class=\"social__list--inline\">\n",
       " <a aria-label=\"twitter\" class=\"js-share--tw\" href=\"https://twitter.com/share?url=http%3A%2F%2Ftisch.nyu.edu%2Fprograms-departments%2Fitp%2Fnews%2Fspring-2018%2Fitp-alums-win-nycxdesign-award.html&amp;text=News+items+featuring+ITP+and+IMA+students%2C+alumni+and+faculty.\"><span class=\"ss-social-circle ss-twitter\"></span><span class=\"ss-social-hidden\">twitter</span></a>\n",
       " <a aria-label=\"facebook\" class=\"js-share--fb\" data-description=\"News items featuring ITP and IMA students, alumni and faculty.\" data-link=\"http://tisch.nyu.edu/itp/news/spring-2018/itp-alums-win-nycxdesign-award.html\" data-name=\"News\" data-picture=\"https://tisch.nyu.edu/content/dam/tisch/itp/GeneralPics/instrument.jpg\" href=\"#\"><span class=\"ss-social-circle ss-facebook\"></span><span class=\"ss-social-hidden\">facebook</span></a>\n",
       " </span><!-- /.social__list inline -->\n",
       " </h2>\n",
       " <p class=\"media-title--minor\">Thursday, May 31, 2018</p>\n",
       " <p class=\"media-item__content--maj\">ITP Alums Deqing Sun and Peiqi Su's installation was honored at the NYCxDESIGN Awards.</p>\n",
       " <a class=\"media__btn--txt-alt\" href=\"/itp/news/spring-2018/itp-alums-win-nycxdesign-award\" target=\"\">Read More</a>\n",
       " </div><!--/media-content__wrap-->\n",
       " </li>, <li class=\"media-item--maj\">\n",
       " <div class=\"media-fig--medium media-fig--clear\">\n",
       " <img alt=\"Creepy man looks over keyboard\" src=\"/content/dam/tisch/itp/NewsEvents/2017-2018/creepyman.png\"/>\n",
       " </div><!--/media-fig-->\n",
       " <div class=\"media-content__wrap\">\n",
       " <h2 class=\"media-title--major\"><a href=\"/itp/news/spring-2018/itp-alum-s-research-presented-at-ieee-symposium-on-security-and-\" target=\"\">ITP Alum's Research Presented at IEEE Symposium on Security and Privacy</a>\n",
       " <span class=\"social__list--inline\">\n",
       " <a aria-label=\"twitter\" class=\"js-share--tw\" href=\"https://twitter.com/share?url=http%3A%2F%2Ftisch.nyu.edu%2Fprograms-departments%2Fitp%2Fnews%2Fspring-2018%2Fitp-alum-s-research-presented-at-ieee-symposium-on-security-and-.html&amp;text=News+items+featuring+ITP+and+IMA+students%2C+alumni+and+faculty.\"><span class=\"ss-social-circle ss-twitter\"></span><span class=\"ss-social-hidden\">twitter</span></a>\n",
       " <a aria-label=\"facebook\" class=\"js-share--fb\" data-description=\"News items featuring ITP and IMA students, alumni and faculty.\" data-link=\"http://tisch.nyu.edu/itp/news/spring-2018/itp-alum-s-research-presented-at-ieee-symposium-on-security-and-.html\" data-name=\"News\" data-picture=\"https://tisch.nyu.edu/content/dam/tisch/itp/GeneralPics/instrument.jpg\" href=\"#\"><span class=\"ss-social-circle ss-facebook\"></span><span class=\"ss-social-hidden\">facebook</span></a>\n",
       " </span><!-- /.social__list inline -->\n",
       " </h2>\n",
       " <p class=\"media-title--minor\">Thursday, May 31, 2018</p>\n",
       " <p class=\"media-item__content--maj\">ITP Alum Diana Freed has collaborative research with the New York Times that has been featured in Vox and IEEE Symposium on Security and Privacy.</p>\n",
       " <a class=\"media__btn--txt-alt\" href=\"/itp/news/spring-2018/itp-alum-s-research-presented-at-ieee-symposium-on-security-and-\" target=\"\">Read More</a>\n",
       " </div><!--/media-content__wrap-->\n",
       " </li>, <li class=\"media-item--maj\">\n",
       " <div class=\"media-fig--medium media-fig--clear\">\n",
       " <img alt=\"Paul Berry, Huffington Post, Former CTO\" src=\"/content/dam/tisch/itp/NewsEvents/2017-2018/PaulBerry.png\"/>\n",
       " </div><!--/media-fig-->\n",
       " <div class=\"media-content__wrap\">\n",
       " <h2 class=\"media-title--major\"><a href=\"/itp/news/spring-2018/itp-alum-interviewed-on-cnn\" target=\"\">ITP Alum Interviewed on CNN</a>\n",
       " <span class=\"social__list--inline\">\n",
       " <a aria-label=\"twitter\" class=\"js-share--tw\" href=\"https://twitter.com/share?url=http%3A%2F%2Ftisch.nyu.edu%2Fprograms-departments%2Fitp%2Fnews%2Fspring-2018%2Fitp-alum-interviewed-on-cnn.html&amp;text=News+items+featuring+ITP+and+IMA+students%2C+alumni+and+faculty.\"><span class=\"ss-social-circle ss-twitter\"></span><span class=\"ss-social-hidden\">twitter</span></a>\n",
       " <a aria-label=\"facebook\" class=\"js-share--fb\" data-description=\"News items featuring ITP and IMA students, alumni and faculty.\" data-link=\"http://tisch.nyu.edu/itp/news/spring-2018/itp-alum-interviewed-on-cnn.html\" data-name=\"News\" data-picture=\"https://tisch.nyu.edu/content/dam/tisch/itp/GeneralPics/instrument.jpg\" href=\"#\"><span class=\"ss-social-circle ss-facebook\"></span><span class=\"ss-social-hidden\">facebook</span></a>\n",
       " </span><!-- /.social__list inline -->\n",
       " </h2>\n",
       " <p class=\"media-title--minor\">Thursday, May 31, 2018</p>\n",
       " <p class=\"media-item__content--maj\">ITP Alum Paul Berry was interviewed by CNN Tech on embracing gender fluidity. </p>\n",
       " <a class=\"media__btn--txt-alt\" href=\"/itp/news/spring-2018/itp-alum-interviewed-on-cnn\" target=\"\">Read More</a>\n",
       " </div><!--/media-content__wrap-->\n",
       " </li>]"
      ]
     },
     "execution_count": 30,
     "metadata": {},
     "output_type": "execute_result"
    }
   ],
   "source": [
    "news_lis"
   ]
  },
  {
   "cell_type": "code",
   "execution_count": 77,
   "metadata": {
    "collapsed": true
   },
   "outputs": [],
   "source": [
    "prefix = \"https://tisch.nyu.edu\""
   ]
  },
  {
   "cell_type": "code",
   "execution_count": 78,
   "metadata": {},
   "outputs": [
    {
     "name": "stdout",
     "output_type": "stream",
     "text": [
      "https://tisch.nyu.edu/content/dam/tisch/itp/NewsEvents/2017-2018/springshow2018candid.jpg\n",
      "https://tisch.nyu.edu/content/dam/tisch/itp/NewsEvents/2017-2018/GabeARExhibit.png\n",
      "https://tisch.nyu.edu/content/dam/tisch/itp/NewsEvents/2017-2018/FrancescaIncaQuipu.jpg\n",
      "https://tisch.nyu.edu/content/dam/tisch/itp/NewsEvents/2017-2018/weavingandcoding.jpg\n",
      "https://tisch.nyu.edu/content/dam/tisch/itp/NewsEvents/2017-2018/AmyKhoshbin.png\n",
      "https://tisch.nyu.edu/content/dam/tisch/itp/NewsEvents/2017-2018/DannyRozinMirror.png\n",
      "https://tisch.nyu.edu/content/dam/tisch/itp/NewsEvents/2017-2018/Molmolandzach.png\n",
      "https://tisch.nyu.edu/content/dam/tisch/itp/NewsEvents/2017-2018/buckwheatfield.JPG\n",
      "https://tisch.nyu.edu/content/dam/tisch/itp/NewsEvents/2017-2018/creepyman.png\n",
      "https://tisch.nyu.edu/content/dam/tisch/itp/NewsEvents/2017-2018/PaulBerry.png\n"
     ]
    }
   ],
   "source": [
    "for item in news_lis:\n",
    "    img_tag = item.find('img')\n",
    "    url = prefix + img_tag[\"src\"]\n",
    "    img_reap = requests.get(url)\n",
    "    fname = url.split(\"/\")[-1]\n",
    "    print(url)"
   ]
  },
  {
   "cell_type": "code",
   "execution_count": 28,
   "metadata": {},
   "outputs": [
    {
     "name": "stdout",
     "output_type": "stream",
     "text": [
      "springshow2018candid.jpg\n",
      "GabeARExhibit.png\n",
      "FrancescaIncaQuipu.jpg\n",
      "weavingandcoding.jpg\n",
      "AmyKhoshbin.png\n",
      "DannyRozinMirror.png\n",
      "Molmolandzach.png\n",
      "buckwheatfield.JPG\n",
      "creepyman.png\n",
      "PaulBerry.png\n"
     ]
    }
   ],
   "source": [
    "for item in news_lis:\n",
    "    img_tag = item.find('img')\n",
    "    url = prefix + img_tag[\"src\"]\n",
    "    img_reap = requests.get(url)\n",
    "    fname = url.split(\"/\")[-1]\n",
    "    open(fname, \"wb\").write(img_reap.content)\n",
    "    time.sleep(0.5)\n",
    "    print(fname)"
   ]
  },
  {
   "cell_type": "code",
   "execution_count": 29,
   "metadata": {},
   "outputs": [
    {
     "name": "stdout",
     "output_type": "stream",
     "text": [
      "https://tisch.nyu.edu/content/dam/tisch/itp/NewsEvents/2017-2018/springshow2018candid.jpg\n",
      "https://tisch.nyu.edu/content/dam/tisch/itp/NewsEvents/2017-2018/GabeARExhibit.png\n",
      "https://tisch.nyu.edu/content/dam/tisch/itp/NewsEvents/2017-2018/FrancescaIncaQuipu.jpg\n",
      "https://tisch.nyu.edu/content/dam/tisch/itp/NewsEvents/2017-2018/weavingandcoding.jpg\n",
      "https://tisch.nyu.edu/content/dam/tisch/itp/NewsEvents/2017-2018/AmyKhoshbin.png\n",
      "https://tisch.nyu.edu/content/dam/tisch/itp/NewsEvents/2017-2018/DannyRozinMirror.png\n",
      "https://tisch.nyu.edu/content/dam/tisch/itp/NewsEvents/2017-2018/Molmolandzach.png\n",
      "https://tisch.nyu.edu/content/dam/tisch/itp/NewsEvents/2017-2018/buckwheatfield.JPG\n",
      "https://tisch.nyu.edu/content/dam/tisch/itp/NewsEvents/2017-2018/creepyman.png\n",
      "https://tisch.nyu.edu/content/dam/tisch/itp/NewsEvents/2017-2018/PaulBerry.png\n"
     ]
    }
   ],
   "source": [
    "for item in news_lis:\n",
    "    img_tag = item.find('img')\n",
    "    url = prefix + img_tag[\"src\"]\n",
    "    img_reap = requests.get(url)\n",
    "    fname = url.split(\"/\")[-1]\n",
    "    time.sleep(0.5)\n",
    "    print(url)"
   ]
  },
  {
   "cell_type": "code",
   "execution_count": null,
   "metadata": {
    "collapsed": true
   },
   "outputs": [],
   "source": []
  }
 ],
 "metadata": {
  "kernelspec": {
   "display_name": "Python 3",
   "language": "python",
   "name": "python3"
  },
  "language_info": {
   "codemirror_mode": {
    "name": "ipython",
    "version": 3
   },
   "file_extension": ".py",
   "mimetype": "text/x-python",
   "name": "python",
   "nbconvert_exporter": "python",
   "pygments_lexer": "ipython3",
   "version": "3.6.3"
  }
 },
 "nbformat": 4,
 "nbformat_minor": 2
}
