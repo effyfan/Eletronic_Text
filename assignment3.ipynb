{
 "cells": [
  {
   "cell_type": "code",
   "execution_count": 46,
   "metadata": {
    "collapsed": true
   },
   "outputs": [],
   "source": [
    "import re"
   ]
  },
  {
   "cell_type": "code",
   "execution_count": 47,
   "metadata": {
    "collapsed": true
   },
   "outputs": [],
   "source": [
    "def splitParagraphIntoSentences(paragraph):\n",
    "    ''' break a paragraph into sentences\n",
    "        and return a list '''\n",
    "   \n",
    "    sentenceEnders = re.compile('[.!?]')\n",
    "    sentenceList = sentenceEnders.split(paragraph)\n",
    "    return sentenceList"
   ]
  },
  {
   "cell_type": "code",
   "execution_count": 48,
   "metadata": {},
   "outputs": [],
   "source": [
    "sentences_match_words = []\n",
    "\n",
    "words = set() # put all 100 words into a set\n",
    "words_file = open(\"100words.txt\")\n",
    "for word in words_file:\n",
    "\twords.add(word.strip())\n",
    "#print(words)\n",
    "words_file.close()"
   ]
  },
  {
   "cell_type": "code",
   "execution_count": 49,
   "metadata": {},
   "outputs": [
    {
     "name": "stdout",
     "output_type": "stream",
     "text": [
      "Word (sacrifice) appears in sentence: ( She was his\n",
      "shield and sacrifice.) \n",
      "Word (gargoyle) appears in sentence: ( The crow was perched on the low roof of\n",
      "his dwelling like a gargoyle.) \n",
      "Word (sacrifice) appears in sentence: ( The blood was being made sacrifice unto.) \n",
      "Word (sacrifice) appears in sentence: ( Blood sacrifice.) \n",
      "Word (formidable) appears in sentence: ( Not as formidable as I thought.) \n",
      "Word (silhouette) appears in sentence: ( He did appreciate the splendidly ominous scaffold which climbed into the brilliantly blue sky,\n",
      "\n",
      "\n",
      "\f",
      "\n",
      "a black and angular silhouette which overhung the coach road.) \n",
      "Word (silhouette) appears in sentence: (\n",
      "He looked up, startled, staring, and saw a silhouette filling the light, eating it up, allowing only chinks of\n",
      "\n",
      "\n",
      "mocking blue around the outline of shoulders, the fork of crotch.) \n",
      "Word (silhouette) appears in sentence: (\n",
      "His legs carried him in a sudden leap through the entropy that held him, above the dangling boy, into a\n",
      "\n",
      "\n",
      "skidding, plunging rush toward the light that offered, the Tower frozen on the retina of his mind's eye in a\n",
      "black frieze, suddenly silence, the silhouette gone, even the beat of his heart gone as the trestle settled further,\n",
      "beginning its final slow dance to the depths, tearing loose, his hand finding the rocky, lighted lip of\n",
      "\n",
      "\n",
      "\f",
      "\n",
      "damnation; and behind him, in the dreadful silence, the boy spoke from too far beneath him.) \n",
      "Word (sacrifice) appears in sentence: ( No one wants to invest you with a power of any kind, gunslinger; it is simply in you, and I am\n",
      "compelled to tell you, partly because of the sacrifice of the boy, and partly because it is the law; the natural\n",
      "law of things.) \n",
      "Word (aspire) appears in sentence: (\n",
      "\n",
      "\n",
      "As it happened, all three of us turned out to be real writers a coincidence almost too large to be termed\n",
      "mere coincidence in a society where literally tens of thousands (maybe hundreds of thousands) of college\n",
      "students aspire to the writer°Øs trade and where bare hundreds actually break through.) \n"
     ]
    }
   ],
   "source": [
    "fp = open(\"darktower1.txt\")\n",
    "data = fp.read()\n",
    "sentences = splitParagraphIntoSentences(data)\n",
    "for s in sentences:\n",
    "\twords_in_sentence = s.split(\" \")\n",
    "\tfor w in words_in_sentence:\n",
    "\t\tif w in words:\n",
    "\t\t\tsentences_match_words.append(s)\n",
    "\t\t\tprint(\"Word ({}) appears in sentence: ({}.) \".format(w,s))\n",
    "fp.close()\n"
   ]
  },
  {
   "cell_type": "code",
   "execution_count": 50,
   "metadata": {},
   "outputs": [
    {
     "name": "stdout",
     "output_type": "stream",
     "text": [
      "Word (random) appears in sentence: (\n",
      "\n",
      "Hermione took out a list of subjects and titles she had\n",
      "decided to search while Ron strode off down a row of books and\n",
      "started pulling them off the shelves at random.) \n"
     ]
    }
   ],
   "source": [
    "fp = open(\"hp1.txt\")\n",
    "data = fp.read()\n",
    "sentences = splitParagraphIntoSentences(data)\n",
    "for s in sentences:\n",
    "\twords_in_sentence = s.split(\" \")\n",
    "\tfor w in words_in_sentence:\n",
    "\t\tif w in words:\n",
    "\t\t\tsentences_match_words.append(s)\n",
    "\t\t\tprint(\"Word ({}) appears in sentence: ({}.) \".format(w,s))\n",
    "fp.close()"
   ]
  },
  {
   "cell_type": "code",
   "execution_count": 51,
   "metadata": {},
   "outputs": [
    {
     "name": "stdout",
     "output_type": "stream",
     "text": [
      "Word (silhouette) appears in sentence: (”\n",
      "         The speaker was seated directly in front of the fireplace, so that it was difficult, at\n",
      "first, for the new arrivals to make out more than his silhouette.) \n",
      "Word (impertinent) appears in sentence: ( No doubt it would have\n",
      "felt strange, impertinent even, but after all it had been common knowledge that\n",
      "Dumbledore had taken part in that legendary duel with Grindelwald, and Harry had not\n",
      "thought to ask Dumbledore what that had been like, nor about any of his other famous\n",
      "achievements.) \n",
      "Word (random) appears in sentence: (\n",
      "\n",
      "        He began to stride blindly around the room, opening empty drawers and picking\n",
      "up books only to replace them on the same piles, barely conscious of what he was doing,\n",
      "as random phrases from Rita's article echoed in his head: An entire chapter to the whole\n",
      "Potter-Dumbledore relationship .) \n",
      "Word (bizarre) appears in sentence: (”\n",
      "          The real Harry thought that this might just be the most bizarre thing he had ever\n",
      "seen, and he had seen some extremely odd things.) \n",
      "Word (random) appears in sentence: (\n",
      "Clinging on for dear life, Harry sent Stunning Spells flying at random into the whirling\n",
      "night.) \n",
      "Word (maneuver) appears in sentence: (”\n",
      "        The kitchen was so crowded that evening it was difficult to maneuver knives and\n",
      "forks.) \n",
      "Word (bizarre) appears in sentence: ( He felt a stab of revulsion mixed\n",
      "with a bizarre desire to laugh.) \n",
      "Word (random) appears in sentence: ( He tried to put\n",
      "a lot of unsaid things into the hug and perhaps she understood them, because she patted\n",
      "his cheek clumsily when he released her, then waved her wand in a slightly random way,\n",
      "causing half a pack of bacon to flop out of the frying pan onto the floor.) \n",
      "Word (flourish) appears in sentence: (\n",
      "        \"Nice,\" said Ron, as with one final flourish of her wand, Hermione\n",
      "\n",
      "turned the leaves on the crabapple tree to gold.) \n",
      "Word (wretched) appears in sentence: (”\n",
      "        Doge looked wretched.) \n",
      "Word (silhouette) appears in sentence: ( Ron had had a fit of gallantry and insisted that Hermione\n",
      "sleep on the cushions from the sofa, so that her silhouette was raised above his.) \n",
      "Word (random) appears in sentence: (”\n",
      "        Harry opened the book at random and saw a full-page photograph of two teenage\n",
      "boys, both laughing immoderately with their arms around each other’s shoulders.) \n",
      "Word (flourish) appears in sentence: (\n",
      "         “Cave Inimicum,” Hermione finished with a skyward flourish.) \n",
      "Word (impertinent) appears in sentence: ( “Having refused what I\n",
      "considered an impertinent request, I could see that my person safety was in jeopardy.) \n",
      "Word (impertinent) appears in sentence: ( He venerated Snape, the first Slytherin\n",
      "headmaster since he himself had controlled the school, and they had to be careful not to\n",
      "criticize or ask impertinent questions about Snape, or Phineas Nigellus would instantly\n",
      "leave his painting.) \n",
      "Word (sacrifice) appears in sentence: (\n",
      "He let them fall, his lips pressed hard together, looking down at the thick snow hiding\n",
      "from his eyes the place where the last of Lily and James lay, bones now, surely, or dust,\n",
      "not knowing or caring that their living son stood so near, his heart still beating, alive\n",
      "because of their sacrifice and close to wishing, at this moment, that he was sleeping under\n",
      "the snow with them.) \n"
     ]
    }
   ],
   "source": [
    "fp = open(\"hp7.txt\")\n",
    "data = fp.read()\n",
    "sentences = splitParagraphIntoSentences(data)\n",
    "for s in sentences:\n",
    "\twords_in_sentence = s.split(\" \")\n",
    "\tfor w in words_in_sentence:\n",
    "\t\tif w in words:\n",
    "\t\t\tsentences_match_words.append(s)\n",
    "\t\t\tprint(\"Word ({}) appears in sentence: ({}.) \".format(w,s))\n",
    "fp.close()"
   ]
  },
  {
   "cell_type": "code",
   "execution_count": 52,
   "metadata": {},
   "outputs": [
    {
     "name": "stdout",
     "output_type": "stream",
     "text": [
      "Word (flourish) appears in sentence: (\n",
      "A flourish of trumpets, and ordnance shot off, within\n",
      "What does this mean, my lord.) \n",
      "Word (outrageous) appears in sentence: (\n",
      "Exeunt KING CLAUDIUS and POLONIUS\n",
      "Enter HAMLET\n",
      "HAMLET \n",
      "To be, or not to be: that is the question:\n",
      "Whether 'tis nobler in the mind to suffer\n",
      "The slings and arrows of outrageous fortune,\n",
      "Or to take arms against a sea of troubles,\n",
      "And by opposing end them.) \n",
      "Word (flourish) appears in sentence: ( A flourish.) \n",
      "Word (repose) appears in sentence: (\n",
      "Sport and repose lock from me day and night.) \n",
      "Word (boisterous) appears in sentence: ( The cease of majesty\n",
      "Dies not alone; but, like a gulf, doth draw\n",
      "What's near it with it: it is a massy wheel,\n",
      "Fix'd on the summit of the highest mount,\n",
      "To whose huge spokes ten thousand lesser things\n",
      "Are mortised and adjoin'd; which, when it falls,\n",
      "Each small annexment, petty consequence,\n",
      "Attends the boisterous ruin.) \n",
      "Word (wretched) appears in sentence: (\n",
      "O wretched state.) \n",
      "Word (flourish) appears in sentence: (\n",
      "HAMLET \n",
      "To this effect, sir; after what flourish your nature will.) \n"
     ]
    }
   ],
   "source": [
    "fp = open(\"Hamlet.txt\")\n",
    "data = fp.read()\n",
    "sentences = splitParagraphIntoSentences(data)\n",
    "for s in sentences:\n",
    "\twords_in_sentence = s.split(\" \")\n",
    "\tfor w in words_in_sentence:\n",
    "\t\tif w in words:\n",
    "\t\t\tsentences_match_words.append(s)\n",
    "\t\t\tprint(\"Word ({}) appears in sentence: ({}.) \".format(w,s))\n",
    "fp.close()"
   ]
  },
  {
   "cell_type": "code",
   "execution_count": 53,
   "metadata": {},
   "outputs": [
    {
     "name": "stdout",
     "output_type": "stream",
     "text": [
      "[' She was his\\nshield and sacrifice', ' The crow was perched on the low roof of\\nhis dwelling like a gargoyle', ' The blood was being made sacrifice unto', ' Blood sacrifice', ' Not as formidable as I thought', ' He did appreciate the splendidly ominous scaffold which climbed into the brilliantly blue sky,\\n\\n\\n\\x0c\\na black and angular silhouette which overhung the coach road', '\\nHe looked up, startled, staring, and saw a silhouette filling the light, eating it up, allowing only chinks of\\n\\n\\nmocking blue around the outline of shoulders, the fork of crotch', \"\\nHis legs carried him in a sudden leap through the entropy that held him, above the dangling boy, into a\\n\\n\\nskidding, plunging rush toward the light that offered, the Tower frozen on the retina of his mind's eye in a\\nblack frieze, suddenly silence, the silhouette gone, even the beat of his heart gone as the trestle settled further,\\nbeginning its final slow dance to the depths, tearing loose, his hand finding the rocky, lighted lip of\\n\\n\\n\\x0c\\ndamnation; and behind him, in the dreadful silence, the boy spoke from too far beneath him\", ' No one wants to invest you with a power of any kind, gunslinger; it is simply in you, and I am\\ncompelled to tell you, partly because of the sacrifice of the boy, and partly because it is the law; the natural\\nlaw of things', '\\n\\n\\nAs it happened, all three of us turned out to be real writers a coincidence almost too large to be termed\\nmere coincidence in a society where literally tens of thousands (maybe hundreds of thousands) of college\\nstudents aspire to the writer°Øs trade and where bare hundreds actually break through', '\\n\\nHermione took out a list of subjects and titles she had\\ndecided to search while Ron strode off down a row of books and\\nstarted pulling them off the shelves at random', '”\\n         The speaker was seated directly in front of the fireplace, so that it was difficult, at\\nfirst, for the new arrivals to make out more than his silhouette', ' No doubt it would have\\nfelt strange, impertinent even, but after all it had been common knowledge that\\nDumbledore had taken part in that legendary duel with Grindelwald, and Harry had not\\nthought to ask Dumbledore what that had been like, nor about any of his other famous\\nachievements', \"\\n\\n        He began to stride blindly around the room, opening empty drawers and picking\\nup books only to replace them on the same piles, barely conscious of what he was doing,\\nas random phrases from Rita's article echoed in his head: An entire chapter to the whole\\nPotter-Dumbledore relationship \", '”\\n          The real Harry thought that this might just be the most bizarre thing he had ever\\nseen, and he had seen some extremely odd things', '\\nClinging on for dear life, Harry sent Stunning Spells flying at random into the whirling\\nnight', '”\\n        The kitchen was so crowded that evening it was difficult to maneuver knives and\\nforks', ' He felt a stab of revulsion mixed\\nwith a bizarre desire to laugh', ' He tried to put\\na lot of unsaid things into the hug and perhaps she understood them, because she patted\\nhis cheek clumsily when he released her, then waved her wand in a slightly random way,\\ncausing half a pack of bacon to flop out of the frying pan onto the floor', '\\n        \"Nice,\" said Ron, as with one final flourish of her wand, Hermione\\n\\nturned the leaves on the crabapple tree to gold', '”\\n        Doge looked wretched', ' Ron had had a fit of gallantry and insisted that Hermione\\nsleep on the cushions from the sofa, so that her silhouette was raised above his', '”\\n        Harry opened the book at random and saw a full-page photograph of two teenage\\nboys, both laughing immoderately with their arms around each other’s shoulders', '\\n         “Cave Inimicum,” Hermione finished with a skyward flourish', ' “Having refused what I\\nconsidered an impertinent request, I could see that my person safety was in jeopardy', ' He venerated Snape, the first Slytherin\\nheadmaster since he himself had controlled the school, and they had to be careful not to\\ncriticize or ask impertinent questions about Snape, or Phineas Nigellus would instantly\\nleave his painting', '\\nHe let them fall, his lips pressed hard together, looking down at the thick snow hiding\\nfrom his eyes the place where the last of Lily and James lay, bones now, surely, or dust,\\nnot knowing or caring that their living son stood so near, his heart still beating, alive\\nbecause of their sacrifice and close to wishing, at this moment, that he was sleeping under\\nthe snow with them', '\\nA flourish of trumpets, and ordnance shot off, within\\nWhat does this mean, my lord', \"\\nExeunt KING CLAUDIUS and POLONIUS\\nEnter HAMLET\\nHAMLET \\nTo be, or not to be: that is the question:\\nWhether 'tis nobler in the mind to suffer\\nThe slings and arrows of outrageous fortune,\\nOr to take arms against a sea of troubles,\\nAnd by opposing end them\", ' A flourish', '\\nSport and repose lock from me day and night', \" The cease of majesty\\nDies not alone; but, like a gulf, doth draw\\nWhat's near it with it: it is a massy wheel,\\nFix'd on the summit of the highest mount,\\nTo whose huge spokes ten thousand lesser things\\nAre mortised and adjoin'd; which, when it falls,\\nEach small annexment, petty consequence,\\nAttends the boisterous ruin\", '\\nO wretched state', '\\nHAMLET \\nTo this effect, sir; after what flourish your nature will']\n"
     ]
    }
   ],
   "source": [
    "print(sentences_match_words)"
   ]
  },
  {
   "cell_type": "code",
   "execution_count": 54,
   "metadata": {},
   "outputs": [],
   "source": [
    "sentences_list = [line.replace(\"\\n\", \" \") for line in sentences_match_words]"
   ]
  },
  {
   "cell_type": "code",
   "execution_count": 55,
   "metadata": {},
   "outputs": [],
   "source": [
    "sentences_list2 = [line.replace(\"°Ø\", \"'\") for line in sentences_list]"
   ]
  },
  {
   "cell_type": "code",
   "execution_count": 56,
   "metadata": {
    "collapsed": true
   },
   "outputs": [],
   "source": [
    "sentences_list3 = [line.replace(\"\\x0c\", \" \") for line in sentences_list2]"
   ]
  },
  {
   "cell_type": "code",
   "execution_count": 57,
   "metadata": {
    "scrolled": true
   },
   "outputs": [
    {
     "name": "stdout",
     "output_type": "stream",
     "text": [
      "[' She was his shield and sacrifice', ' The crow was perched on the low roof of his dwelling like a gargoyle', ' The blood was being made sacrifice unto', ' Blood sacrifice', ' Not as formidable as I thought', ' He did appreciate the splendidly ominous scaffold which climbed into the brilliantly blue sky,     a black and angular silhouette which overhung the coach road', ' He looked up, startled, staring, and saw a silhouette filling the light, eating it up, allowing only chinks of   mocking blue around the outline of shoulders, the fork of crotch', \" His legs carried him in a sudden leap through the entropy that held him, above the dangling boy, into a   skidding, plunging rush toward the light that offered, the Tower frozen on the retina of his mind's eye in a black frieze, suddenly silence, the silhouette gone, even the beat of his heart gone as the trestle settled further, beginning its final slow dance to the depths, tearing loose, his hand finding the rocky, lighted lip of     damnation; and behind him, in the dreadful silence, the boy spoke from too far beneath him\", ' No one wants to invest you with a power of any kind, gunslinger; it is simply in you, and I am compelled to tell you, partly because of the sacrifice of the boy, and partly because it is the law; the natural law of things', \"   As it happened, all three of us turned out to be real writers a coincidence almost too large to be termed mere coincidence in a society where literally tens of thousands (maybe hundreds of thousands) of college students aspire to the writer's trade and where bare hundreds actually break through\", '  Hermione took out a list of subjects and titles she had decided to search while Ron strode off down a row of books and started pulling them off the shelves at random', '”          The speaker was seated directly in front of the fireplace, so that it was difficult, at first, for the new arrivals to make out more than his silhouette', ' No doubt it would have felt strange, impertinent even, but after all it had been common knowledge that Dumbledore had taken part in that legendary duel with Grindelwald, and Harry had not thought to ask Dumbledore what that had been like, nor about any of his other famous achievements', \"          He began to stride blindly around the room, opening empty drawers and picking up books only to replace them on the same piles, barely conscious of what he was doing, as random phrases from Rita's article echoed in his head: An entire chapter to the whole Potter-Dumbledore relationship \", '”           The real Harry thought that this might just be the most bizarre thing he had ever seen, and he had seen some extremely odd things', ' Clinging on for dear life, Harry sent Stunning Spells flying at random into the whirling night', '”         The kitchen was so crowded that evening it was difficult to maneuver knives and forks', ' He felt a stab of revulsion mixed with a bizarre desire to laugh', ' He tried to put a lot of unsaid things into the hug and perhaps she understood them, because she patted his cheek clumsily when he released her, then waved her wand in a slightly random way, causing half a pack of bacon to flop out of the frying pan onto the floor', '         \"Nice,\" said Ron, as with one final flourish of her wand, Hermione  turned the leaves on the crabapple tree to gold', '”         Doge looked wretched', ' Ron had had a fit of gallantry and insisted that Hermione sleep on the cushions from the sofa, so that her silhouette was raised above his', '”         Harry opened the book at random and saw a full-page photograph of two teenage boys, both laughing immoderately with their arms around each other’s shoulders', '          “Cave Inimicum,” Hermione finished with a skyward flourish', ' “Having refused what I considered an impertinent request, I could see that my person safety was in jeopardy', ' He venerated Snape, the first Slytherin headmaster since he himself had controlled the school, and they had to be careful not to criticize or ask impertinent questions about Snape, or Phineas Nigellus would instantly leave his painting', ' He let them fall, his lips pressed hard together, looking down at the thick snow hiding from his eyes the place where the last of Lily and James lay, bones now, surely, or dust, not knowing or caring that their living son stood so near, his heart still beating, alive because of their sacrifice and close to wishing, at this moment, that he was sleeping under the snow with them', ' A flourish of trumpets, and ordnance shot off, within What does this mean, my lord', \" Exeunt KING CLAUDIUS and POLONIUS Enter HAMLET HAMLET  To be, or not to be: that is the question: Whether 'tis nobler in the mind to suffer The slings and arrows of outrageous fortune, Or to take arms against a sea of troubles, And by opposing end them\", ' A flourish', ' Sport and repose lock from me day and night', \" The cease of majesty Dies not alone; but, like a gulf, doth draw What's near it with it: it is a massy wheel, Fix'd on the summit of the highest mount, To whose huge spokes ten thousand lesser things Are mortised and adjoin'd; which, when it falls, Each small annexment, petty consequence, Attends the boisterous ruin\", ' O wretched state', ' HAMLET  To this effect, sir; after what flourish your nature will']\n"
     ]
    }
   ],
   "source": [
    "print(sentences_list3)"
   ]
  },
  {
   "cell_type": "code",
   "execution_count": 58,
   "metadata": {},
   "outputs": [
    {
     "name": "stdout",
     "output_type": "stream",
     "text": [
      " She was his shield and sacrifice\n",
      " The crow was perched on the low roof of his dwelling like a gargoyle\n",
      " The blood was being made sacrifice unto\n",
      " Blood sacrifice\n",
      " Not as formidable as I thought\n",
      " He did appreciate the splendidly ominous scaffold which climbed into the brilliantly blue sky,     a black and angular silhouette which overhung the coach road\n",
      " He looked up, startled, staring, and saw a silhouette filling the light, eating it up, allowing only chinks of   mocking blue around the outline of shoulders, the fork of crotch\n",
      " His legs carried him in a sudden leap through the entropy that held him, above the dangling boy, into a   skidding, plunging rush toward the light that offered, the Tower frozen on the retina of his mind's eye in a black frieze, suddenly silence, the silhouette gone, even the beat of his heart gone as the trestle settled further, beginning its final slow dance to the depths, tearing loose, his hand finding the rocky, lighted lip of     damnation; and behind him, in the dreadful silence, the boy spoke from too far beneath him\n",
      " No one wants to invest you with a power of any kind, gunslinger; it is simply in you, and I am compelled to tell you, partly because of the sacrifice of the boy, and partly because it is the law; the natural law of things\n",
      "   As it happened, all three of us turned out to be real writers a coincidence almost too large to be termed mere coincidence in a society where literally tens of thousands (maybe hundreds of thousands) of college students aspire to the writer's trade and where bare hundreds actually break through\n",
      "  Hermione took out a list of subjects and titles she had decided to search while Ron strode off down a row of books and started pulling them off the shelves at random\n",
      "”          The speaker was seated directly in front of the fireplace, so that it was difficult, at first, for the new arrivals to make out more than his silhouette\n",
      " No doubt it would have felt strange, impertinent even, but after all it had been common knowledge that Dumbledore had taken part in that legendary duel with Grindelwald, and Harry had not thought to ask Dumbledore what that had been like, nor about any of his other famous achievements\n",
      "          He began to stride blindly around the room, opening empty drawers and picking up books only to replace them on the same piles, barely conscious of what he was doing, as random phrases from Rita's article echoed in his head: An entire chapter to the whole Potter-Dumbledore relationship \n",
      "”           The real Harry thought that this might just be the most bizarre thing he had ever seen, and he had seen some extremely odd things\n",
      " Clinging on for dear life, Harry sent Stunning Spells flying at random into the whirling night\n",
      "”         The kitchen was so crowded that evening it was difficult to maneuver knives and forks\n",
      " He felt a stab of revulsion mixed with a bizarre desire to laugh\n",
      " He tried to put a lot of unsaid things into the hug and perhaps she understood them, because she patted his cheek clumsily when he released her, then waved her wand in a slightly random way, causing half a pack of bacon to flop out of the frying pan onto the floor\n",
      "         \"Nice,\" said Ron, as with one final flourish of her wand, Hermione  turned the leaves on the crabapple tree to gold\n",
      "”         Doge looked wretched\n",
      " Ron had had a fit of gallantry and insisted that Hermione sleep on the cushions from the sofa, so that her silhouette was raised above his\n",
      "”         Harry opened the book at random and saw a full-page photograph of two teenage boys, both laughing immoderately with their arms around each other’s shoulders\n",
      "          “Cave Inimicum,” Hermione finished with a skyward flourish\n",
      " “Having refused what I considered an impertinent request, I could see that my person safety was in jeopardy\n",
      " He venerated Snape, the first Slytherin headmaster since he himself had controlled the school, and they had to be careful not to criticize or ask impertinent questions about Snape, or Phineas Nigellus would instantly leave his painting\n",
      " He let them fall, his lips pressed hard together, looking down at the thick snow hiding from his eyes the place where the last of Lily and James lay, bones now, surely, or dust, not knowing or caring that their living son stood so near, his heart still beating, alive because of their sacrifice and close to wishing, at this moment, that he was sleeping under the snow with them\n",
      " A flourish of trumpets, and ordnance shot off, within What does this mean, my lord\n",
      " Exeunt KING CLAUDIUS and POLONIUS Enter HAMLET HAMLET  To be, or not to be: that is the question: Whether 'tis nobler in the mind to suffer The slings and arrows of outrageous fortune, Or to take arms against a sea of troubles, And by opposing end them\n",
      " A flourish\n",
      " Sport and repose lock from me day and night\n",
      " The cease of majesty Dies not alone; but, like a gulf, doth draw What's near it with it: it is a massy wheel, Fix'd on the summit of the highest mount, To whose huge spokes ten thousand lesser things Are mortised and adjoin'd; which, when it falls, Each small annexment, petty consequence, Attends the boisterous ruin\n",
      " O wretched state\n",
      " HAMLET  To this effect, sir; after what flourish your nature will\n"
     ]
    }
   ],
   "source": [
    "print('\\n'.join(sentences_list3))"
   ]
  },
  {
   "cell_type": "markdown",
   "metadata": {},
   "source": [
    "#### Save sentence_string as a new txt"
   ]
  },
  {
   "cell_type": "code",
   "execution_count": 59,
   "metadata": {
    "collapsed": true
   },
   "outputs": [],
   "source": [
    "import random"
   ]
  },
  {
   "cell_type": "code",
   "execution_count": 63,
   "metadata": {},
   "outputs": [],
   "source": [
    "new_sentences = [line.strip() for line in open(\"sentences_string.txt\")]"
   ]
  },
  {
   "cell_type": "code",
   "execution_count": 64,
   "metadata": {},
   "outputs": [
    {
     "data": {
      "text/plain": [
       "['She was his shield and sacrifice',\n",
       " 'The crow was perched on the low roof of his dwelling like a gargoyle',\n",
       " 'The blood was being made sacrifice unto',\n",
       " 'Blood sacrifice',\n",
       " 'Not as formidable as I thought',\n",
       " 'He did appreciate the splendidly ominous scaffold which climbed into the brilliantly blue sky,     a black and angular silhouette which overhung the coach road',\n",
       " 'He looked up, startled, staring, and saw a silhouette filling the light, eating it up, allowing only chinks of   mocking blue around the outline of shoulders, the fork of crotch',\n",
       " \"His legs carried him in a sudden leap through the entropy that held him, above the dangling boy, into a   skidding, plunging rush toward the light that offered, the Tower frozen on the retina of his mind's eye in a black frieze, suddenly silence, the silhouette gone, even the beat of his heart gone as the trestle settled further, beginning its final slow dance to the depths, tearing loose, his hand finding the rocky, lighted lip of     damnation; and behind him, in the dreadful silence, the boy spoke from too far beneath him\",\n",
       " 'No one wants to invest you with a power of any kind, gunslinger; it is simply in you, and I am compelled to tell you, partly because of the sacrifice of the boy, and partly because it is the law; the natural law of things',\n",
       " \"As it happened, all three of us turned out to be real writers a coincidence almost too large to be termed mere coincidence in a society where literally tens of thousands (maybe hundreds of thousands) of college students aspire to the writer's trade and where bare hundreds actually break through\",\n",
       " 'Hermione took out a list of subjects and titles she had decided to search while Ron strode off down a row of books and started pulling them off the shelves at random',\n",
       " '”          The speaker was seated directly in front of the fireplace, so that it was difficult, at first, for the new arrivals to make out more than his silhouette',\n",
       " 'No doubt it would have felt strange, impertinent even, but after all it had been common knowledge that Dumbledore had taken part in that legendary duel with Grindelwald, and Harry had not thought to ask Dumbledore what that had been like, nor about any of his other famous achievements',\n",
       " \"He began to stride blindly around the room, opening empty drawers and picking up books only to replace them on the same piles, barely conscious of what he was doing, as random phrases from Rita's article echoed in his head: An entire chapter to the whole Potter-Dumbledore relationship\",\n",
       " '”           The real Harry thought that this might just be the most bizarre thing he had ever seen, and he had seen some extremely odd things',\n",
       " 'Clinging on for dear life, Harry sent Stunning Spells flying at random into the whirling night',\n",
       " '”         The kitchen was so crowded that evening it was difficult to maneuver knives and forks',\n",
       " 'He felt a stab of revulsion mixed with a bizarre desire to laugh',\n",
       " 'He tried to put a lot of unsaid things into the hug and perhaps she understood them, because she patted his cheek clumsily when he released her, then waved her wand in a slightly random way, causing half a pack of bacon to flop out of the frying pan onto the floor',\n",
       " '\"Nice,\" said Ron, as with one final flourish of her wand, Hermione  turned the leaves on the crabapple tree to gold',\n",
       " '”         Doge looked wretched',\n",
       " 'Ron had had a fit of gallantry and insisted that Hermione sleep on the cushions from the sofa, so that her silhouette was raised above his',\n",
       " '”         Harry opened the book at random and saw a full-page photograph of two teenage boys, both laughing immoderately with their arms around each other’s shoulders',\n",
       " '“Cave Inimicum,” Hermione finished with a skyward flourish',\n",
       " '“Having refused what I considered an impertinent request, I could see that my person safety was in jeopardy',\n",
       " 'He venerated Snape, the first Slytherin headmaster since he himself had controlled the school, and they had to be careful not to criticize or ask impertinent questions about Snape, or Phineas Nigellus would instantly leave his painting',\n",
       " 'He let them fall, his lips pressed hard together, looking down at the thick snow hiding from his eyes the place where the last of Lily and James lay, bones now, surely, or dust, not knowing or caring that their living son stood so near, his heart still beating, alive because of their sacrifice and close to wishing, at this moment, that he was sleeping under the snow with them',\n",
       " 'A flourish of trumpets, and ordnance shot off, within What does this mean, my lord',\n",
       " \"Exeunt KING CLAUDIUS and POLONIUS Enter HAMLET HAMLET  To be, or not to be: that is the question: Whether 'tis nobler in the mind to suffer The slings and arrows of outrageous fortune, Or to take arms against a sea of troubles, And by opposing end them\",\n",
       " 'A flourish',\n",
       " 'Sport and repose lock from me day and night',\n",
       " \"The cease of majesty Dies not alone; but, like a gulf, doth draw What's near it with it: it is a massy wheel, Fix'd on the summit of the highest mount, To whose huge spokes ten thousand lesser things Are mortised and adjoin'd; which, when it falls, Each small annexment, petty consequence, Attends the boisterous ruin\",\n",
       " 'O wretched state',\n",
       " 'HAMLET  To this effect, sir; after what flourish your nature will']"
      ]
     },
     "execution_count": 64,
     "metadata": {},
     "output_type": "execute_result"
    }
   ],
   "source": [
    "new_sentences"
   ]
  },
  {
   "cell_type": "code",
   "execution_count": 65,
   "metadata": {},
   "outputs": [
    {
     "data": {
      "text/plain": [
       "[\"Exeunt KING CLAUDIUS and POLONIUS Enter HAMLET HAMLET  To be, or not to be: that is the question: Whether 'tis nobler in the mind to suffer The slings and arrows of outrageous fortune, Or to take arms against a sea of troubles, And by opposing end them\",\n",
       " 'Ron had had a fit of gallantry and insisted that Hermione sleep on the cushions from the sofa, so that her silhouette was raised above his',\n",
       " 'He tried to put a lot of unsaid things into the hug and perhaps she understood them, because she patted his cheek clumsily when he released her, then waved her wand in a slightly random way, causing half a pack of bacon to flop out of the frying pan onto the floor']"
      ]
     },
     "execution_count": 65,
     "metadata": {},
     "output_type": "execute_result"
    }
   ],
   "source": [
    "random.sample(new_sentences, 3)"
   ]
  },
  {
   "cell_type": "code",
   "execution_count": 68,
   "metadata": {},
   "outputs": [
    {
     "data": {
      "text/plain": [
       "['”         The kitchen was so crowded that evening it was difficult to maneuver knives and forks',\n",
       " '”         Harry opened the book at random and saw a full-page photograph of two teenage boys, both laughing immoderately with their arms around each other’s shoulders']"
      ]
     },
     "execution_count": 68,
     "metadata": {},
     "output_type": "execute_result"
    }
   ],
   "source": [
    "random.sample(new_sentences, 2)"
   ]
  },
  {
   "cell_type": "code",
   "execution_count": 69,
   "metadata": {},
   "outputs": [
    {
     "data": {
      "text/plain": [
       "[\"His legs carried him in a sudden leap through the entropy that held him, above the dangling boy, into a   skidding, plunging rush toward the light that offered, the Tower frozen on the retina of his mind's eye in a black frieze, suddenly silence, the silhouette gone, even the beat of his heart gone as the trestle settled further, beginning its final slow dance to the depths, tearing loose, his hand finding the rocky, lighted lip of     damnation; and behind him, in the dreadful silence, the boy spoke from too far beneath him\",\n",
       " 'He venerated Snape, the first Slytherin headmaster since he himself had controlled the school, and they had to be careful not to criticize or ask impertinent questions about Snape, or Phineas Nigellus would instantly leave his painting']"
      ]
     },
     "execution_count": 69,
     "metadata": {},
     "output_type": "execute_result"
    }
   ],
   "source": [
    "random.sample(new_sentences, 2)"
   ]
  },
  {
   "cell_type": "code",
   "execution_count": null,
   "metadata": {
    "collapsed": true
   },
   "outputs": [],
   "source": []
  }
 ],
 "metadata": {
  "kernelspec": {
   "display_name": "Python 3",
   "language": "python",
   "name": "python3"
  },
  "language_info": {
   "codemirror_mode": {
    "name": "ipython",
    "version": 3
   },
   "file_extension": ".py",
   "mimetype": "text/x-python",
   "name": "python",
   "nbconvert_exporter": "python",
   "pygments_lexer": "ipython3",
   "version": "3.6.3"
  }
 },
 "nbformat": 4,
 "nbformat_minor": 2
}
